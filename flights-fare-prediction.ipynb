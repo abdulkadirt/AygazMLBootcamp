{
 "cells": [
  {
   "cell_type": "code",
   "execution_count": 1,
   "id": "31affa2c",
   "metadata": {
    "execution": {
     "iopub.execute_input": "2024-09-18T17:21:31.840554Z",
     "iopub.status.busy": "2024-09-18T17:21:31.840218Z",
     "iopub.status.idle": "2024-09-18T17:21:34.398883Z",
     "shell.execute_reply": "2024-09-18T17:21:34.398082Z"
    },
    "papermill": {
     "duration": 2.574664,
     "end_time": "2024-09-18T17:21:34.401280",
     "exception": false,
     "start_time": "2024-09-18T17:21:31.826616",
     "status": "completed"
    },
    "tags": []
   },
   "outputs": [],
   "source": [
    "import numpy as np\n",
    "import pandas as pd\n",
    "pd.set_option(\"display.max_columns\", 200)\n",
    "\n",
    "import matplotlib.pyplot as plt\n",
    "import seaborn as sns\n",
    "\n",
    "import warnings\n",
    "warnings.filterwarnings(\"ignore\")\n",
    "\n",
    "\n",
    "from sklearn.model_selection import train_test_split, RandomizedSearchCV\n",
    "\n",
    "\n",
    "from sklearn.preprocessing import StandardScaler\n",
    "import category_encoders as ce\n",
    "from sklearn.preprocessing import OneHotEncoder\n",
    "from sklearn.model_selection import KFold\n",
    "\n",
    "\n",
    "from sklearn.ensemble import RandomForestRegressor\n",
    "from sklearn.model_selection import cross_validate , cross_val_score\n",
    "\n",
    "from sklearn.metrics import mean_squared_error, mean_absolute_error, r2_score\n"
   ]
  },
  {
   "cell_type": "code",
   "execution_count": 2,
   "id": "bc100d69",
   "metadata": {
    "execution": {
     "iopub.execute_input": "2024-09-18T17:21:34.426227Z",
     "iopub.status.busy": "2024-09-18T17:21:34.425825Z",
     "iopub.status.idle": "2024-09-18T17:21:34.437175Z",
     "shell.execute_reply": "2024-09-18T17:21:34.436338Z"
    },
    "papermill": {
     "duration": 0.025943,
     "end_time": "2024-09-18T17:21:34.439107",
     "exception": false,
     "start_time": "2024-09-18T17:21:34.413164",
     "status": "completed"
    },
    "tags": []
   },
   "outputs": [],
   "source": [
    "def grab_col_names(dataframe, cat_th=10, car_th=20):\n",
    "    \"\"\"\n",
    "    Identifies and categorizes the columns in a DataFrame into categorical, numerical, \n",
    "    high-cardinality categorical, and numerical-but-categorical columns.\n",
    "\n",
    "    Parameters:\n",
    "    ----------\n",
    "    dataframe : pd.DataFrame\n",
    "        The input DataFrame from which the columns will be categorized.\n",
    "    \n",
    "    cat_th : int, optional (default=10)\n",
    "        The threshold for the maximum number of unique values a numerical column can have \n",
    "        to be considered categorical (`num_but_cat`).\n",
    "    \n",
    "    car_th : int, optional (default=20)\n",
    "        The threshold for the minimum number of unique values a categorical column can have \n",
    "        to be considered high-cardinality (`cat_but_car`).\n",
    "\n",
    "    Returns:\n",
    "    -------\n",
    "    cat_cols : list\n",
    "        A list of columns categorized as categorical (includes both object types and numerical \n",
    "        columns with fewer unique values than `cat_th`).\n",
    "\n",
    "    num_cols : list\n",
    "        A list of columns categorized as numerical (excluding those with fewer unique values \n",
    "        than `cat_th`).\n",
    "\n",
    "    cat_but_car : list\n",
    "        A list of columns that are categorical but have high cardinality (more than `car_th` \n",
    "        unique values).\n",
    "\n",
    "    Prints:\n",
    "    -------\n",
    "    - The number of observations (rows) and variables (columns) in the DataFrame.\n",
    "    - The number of categorical columns, numerical columns, high-cardinality categorical columns, \n",
    "      and numerical-but-categorical columns.\n",
    "\n",
    "    Notes:\n",
    "    ------\n",
    "    - The function categorizes columns into three groups: categorical, numerical, and high-cardinality categorical.\n",
    "    - Numerical columns with fewer unique values than `cat_th` are considered categorical (`num_but_cat`).\n",
    "    - Categorical columns with more unique values than `car_th` are considered high-cardinality (`cat_but_car`).\n",
    "    \"\"\"\n",
    "\n",
    "    # Identify categorical columns (object, category, bool types)\n",
    "    cat_cols = [col for col in dataframe.columns \n",
    "                if dataframe[col].dtypes in ['object', 'category', 'bool']]\n",
    "\n",
    "    # Identify numerical columns that should be treated as categorical based on the unique value threshold\n",
    "    num_but_cat = [col for col in dataframe.columns \n",
    "                   if dataframe[col].nunique() < cat_th \n",
    "                   and dataframe[col].dtypes in [\"int64\", \"float64\"]]\n",
    "\n",
    "    # Identify high-cardinality categorical columns\n",
    "    cat_but_car = [col for col in dataframe.columns \n",
    "                   if dataframe[col].nunique() > car_th \n",
    "                   and str(dataframe[col].dtypes) in [\"category\", \"object\"]]\n",
    "\n",
    "    # Combine categorical columns and numerical-but-categorical columns, exclude high-cardinality\n",
    "    cat_cols = cat_cols + num_but_cat\n",
    "    cat_cols = [col for col in cat_cols if col not in cat_but_car]\n",
    "\n",
    "    # Identify true numerical columns (excluding those that are treated as categorical)\n",
    "    num_cols = [col for col in dataframe.columns \n",
    "                if dataframe[col].dtypes in [\"int64\", \"float64\"]]\n",
    "    num_cols = [col for col in num_cols if col not in cat_cols]\n",
    "\n",
    "    # Print dataset information and column classifications\n",
    "    print(f\"Observations: {dataframe.shape[0]}\")\n",
    "    print(f\"Variables: {dataframe.shape[1]}\")\n",
    "    print(f'cat_cols: {len(cat_cols)}')\n",
    "    print(f'num_cols: {len(num_cols)}')\n",
    "    print(f'cat_but_car: {len(cat_but_car)}')\n",
    "    print(f'num_but_cat: {len(num_but_cat)}')\n",
    "\n",
    "    return cat_cols, num_cols, cat_but_car\n"
   ]
  },
  {
   "cell_type": "code",
   "execution_count": 3,
   "id": "cd9a8bc9",
   "metadata": {
    "execution": {
     "iopub.execute_input": "2024-09-18T17:21:34.463657Z",
     "iopub.status.busy": "2024-09-18T17:21:34.463376Z",
     "iopub.status.idle": "2024-09-18T17:21:34.476935Z",
     "shell.execute_reply": "2024-09-18T17:21:34.476063Z"
    },
    "papermill": {
     "duration": 0.028272,
     "end_time": "2024-09-18T17:21:34.478901",
     "exception": false,
     "start_time": "2024-09-18T17:21:34.450629",
     "status": "completed"
    },
    "tags": []
   },
   "outputs": [],
   "source": [
    "def encode_and_split_data(df, target_col, cat_cols, cat_but_car, num_cols, test_size=0.2, random_state=42):\n",
    "    \"\"\"\n",
    "    Splits the dataset into train and test sets, applies target encoding and one-hot encoding \n",
    "    to categorical columns, and returns the encoded data along with the target variables.\n",
    "\n",
    "    Parameters:\n",
    "    ----------\n",
    "    df : pd.DataFrame\n",
    "        The input DataFrame containing both features and the target column.\n",
    "\n",
    "    target_col : str\n",
    "        The name of the target column that will be predicted.\n",
    "\n",
    "    cat_cols : list\n",
    "        A list of categorical columns with low cardinality (for one-hot encoding).\n",
    "\n",
    "    cat_but_car : list\n",
    "        A list of categorical columns with high cardinality (for target encoding).\n",
    "\n",
    "    num_cols : list\n",
    "        A list of numerical columns to be used as is.\n",
    "\n",
    "    test_size : float, optional (default=0.2)\n",
    "        The proportion of the dataset to include in the test split.\n",
    "\n",
    "    random_state : int, optional (default=42)\n",
    "        Random seed to ensure reproducibility of the train-test split.\n",
    "\n",
    "    Returns:\n",
    "    -------\n",
    "    X_train_final : pd.DataFrame\n",
    "        Encoded and concatenated training features, including both categorical and numerical columns.\n",
    "\n",
    "    X_test_final : pd.DataFrame\n",
    "        Encoded and concatenated testing features, including both categorical and numerical columns.\n",
    "\n",
    "    y_train : pd.Series\n",
    "        The target values for the training set.\n",
    "\n",
    "    y_test : pd.Series\n",
    "        The target values for the test set.\n",
    "\n",
    "    Raises:\n",
    "    ------\n",
    "    KeyError\n",
    "        If the target column is not found in the DataFrame.\n",
    "\n",
    "    Notes:\n",
    "    ------\n",
    "    - The function performs target encoding on high-cardinality categorical columns.\n",
    "    - It performs one-hot encoding on low-cardinality categorical columns.\n",
    "    - Resets the indices of the resulting DataFrames to avoid misalignment issues.\n",
    "    \"\"\"\n",
    "\n",
    "    # Ensure the target column exists\n",
    "    if target_col not in df.columns:\n",
    "        raise KeyError(f\"'{target_col}' not found in the DataFrame columns\")\n",
    "\n",
    "    # Step 1: Split into features (X) and target (y)\n",
    "    X = df.drop(target_col, axis=1)\n",
    "    print(\"X columns: \", X.columns)\n",
    "    y = df[target_col]\n",
    "\n",
    "    # Exclude the target column from the numerical columns list\n",
    "    num_cols_filtered = [col for col in num_cols if col != target_col]\n",
    "\n",
    "    # Step 2: Split into train and test sets\n",
    "    X_train, X_test, y_train, y_test = train_test_split(\n",
    "        X, y, test_size=test_size, random_state=random_state\n",
    "    )\n",
    "    \n",
    "    # Step 3: Apply Target Encoding to high-cardinality categorical columns\n",
    "    encoder = ce.TargetEncoder(cols=cat_but_car)\n",
    "    X_train_encoded = encoder.fit_transform(X_train[cat_but_car], y_train)\n",
    "    X_test_encoded = encoder.transform(X_test[cat_but_car])\n",
    "\n",
    "    # Step 4: Apply One-Hot Encoding to low-cardinality categorical columns\n",
    "    ohe = OneHotEncoder(drop=\"first\", sparse=False)  # Perform One-Hot Encoding\n",
    "    X_train_encoded_ohe = ohe.fit_transform(X_train[cat_cols])\n",
    "    X_test_encoded_ohe = ohe.transform(X_test[cat_cols])\n",
    "\n",
    "    # Convert OHE arrays to DataFrames with column names\n",
    "    ohe_columns = ohe.get_feature_names_out(cat_cols)\n",
    "    X_train_encoded_ohe_df = pd.DataFrame(X_train_encoded_ohe, columns=ohe_columns)\n",
    "    X_test_encoded_ohe_df = pd.DataFrame(X_test_encoded_ohe, columns=ohe_columns)\n",
    "\n",
    "    # Reset the indices to avoid any misalignment during concatenation\n",
    "    X_train_encoded.reset_index(drop=True, inplace=True)\n",
    "    X_test_encoded.reset_index(drop=True, inplace=True)\n",
    "    X_train.reset_index(drop=True, inplace=True)\n",
    "    X_test.reset_index(drop=True, inplace=True)\n",
    "    X_train_encoded_ohe_df.reset_index(drop=True, inplace=True)\n",
    "    X_test_encoded_ohe_df.reset_index(drop=True, inplace=True)\n",
    "    y_train.reset_index(drop=True, inplace=True)\n",
    "    y_test.reset_index(drop=True, inplace=True)\n",
    "\n",
    "    # Step 5: Concatenate encoded features with numerical columns\n",
    "    X_train_final = pd.concat(\n",
    "        [X_train_encoded, X_train_encoded_ohe_df, X_train[num_cols_filtered]], axis=1\n",
    "    )\n",
    "    X_test_final = pd.concat(\n",
    "        [X_test_encoded, X_test_encoded_ohe_df, X_test[num_cols_filtered]], axis=1\n",
    "    )\n",
    "\n",
    "    return X_train_final, X_test_final, y_train, y_test\n"
   ]
  },
  {
   "cell_type": "code",
   "execution_count": 4,
   "id": "e53e3a69",
   "metadata": {
    "execution": {
     "iopub.execute_input": "2024-09-18T17:21:34.502822Z",
     "iopub.status.busy": "2024-09-18T17:21:34.502544Z",
     "iopub.status.idle": "2024-09-18T17:21:34.508981Z",
     "shell.execute_reply": "2024-09-18T17:21:34.508249Z"
    },
    "papermill": {
     "duration": 0.020441,
     "end_time": "2024-09-18T17:21:34.510838",
     "exception": false,
     "start_time": "2024-09-18T17:21:34.490397",
     "status": "completed"
    },
    "tags": []
   },
   "outputs": [],
   "source": [
    "def evaluate(model, test_features, test_labels):\n",
    "    predictions = model.predict(test_features)  # Modelin tahminlerini al  \n",
    "    errors = abs(predictions - test_labels)  # Hata hesapla\n",
    "    mape = 100 * np.mean(errors / test_labels)  # MAPE (Ortalama Mutlak Yüzde Hata) hesapla\n",
    "    accuracy = 100 - mape # Doğruluk hesapla\n",
    "    \n",
    "    r2 = r2_score(y_test, predictions)  # R² skoru hesapla\n",
    "    mse = mean_squared_error(test_labels, predictions)  # MSE (Ortalama Kare Hata) hesapla\n",
    "    mae = mean_absolute_error(test_labels, predictions)   # MAE (Ortalama Mutlak Hata) hesapla\n",
    "    \n",
    "    \n",
    "    print('Model Performance')\n",
    "    print('Average Error: {:0.4f} degrees.'.format(np.mean(errors)))\n",
    "    print('Accuracy = {:0.2f}%.'.format(accuracy))\n",
    "    \n",
    "    print(f\"Mean Squared Error: {mse}\")\n",
    "    print(f\"Mean Absolute Error: {mae}\")\n",
    "    print(f\"R² Score: {r2}\")\n",
    "    return accuracy"
   ]
  },
  {
   "cell_type": "code",
   "execution_count": 5,
   "id": "e55e9e95",
   "metadata": {
    "execution": {
     "iopub.execute_input": "2024-09-18T17:21:34.534705Z",
     "iopub.status.busy": "2024-09-18T17:21:34.534361Z",
     "iopub.status.idle": "2024-09-18T17:21:35.841095Z",
     "shell.execute_reply": "2024-09-18T17:21:35.840112Z"
    },
    "papermill": {
     "duration": 1.321671,
     "end_time": "2024-09-18T17:21:35.843587",
     "exception": false,
     "start_time": "2024-09-18T17:21:34.521916",
     "status": "completed"
    },
    "tags": []
   },
   "outputs": [
    {
     "data": {
      "text/html": [
       "<div>\n",
       "<style scoped>\n",
       "    .dataframe tbody tr th:only-of-type {\n",
       "        vertical-align: middle;\n",
       "    }\n",
       "\n",
       "    .dataframe tbody tr th {\n",
       "        vertical-align: top;\n",
       "    }\n",
       "\n",
       "    .dataframe thead th {\n",
       "        text-align: right;\n",
       "    }\n",
       "</style>\n",
       "<table border=\"1\" class=\"dataframe\">\n",
       "  <thead>\n",
       "    <tr style=\"text-align: right;\">\n",
       "      <th></th>\n",
       "      <th>Unnamed: 0</th>\n",
       "      <th>Year</th>\n",
       "      <th>quarter</th>\n",
       "      <th>city1</th>\n",
       "      <th>city2</th>\n",
       "      <th>airport_1</th>\n",
       "      <th>airport_2</th>\n",
       "      <th>nsmiles</th>\n",
       "      <th>passengers</th>\n",
       "      <th>fare</th>\n",
       "      <th>carrier_lg</th>\n",
       "      <th>large_ms</th>\n",
       "      <th>fare_lg</th>\n",
       "      <th>carrier_low</th>\n",
       "      <th>lf_ms</th>\n",
       "      <th>fare_low</th>\n",
       "      <th>dep_city</th>\n",
       "      <th>dep_state</th>\n",
       "      <th>dest_city</th>\n",
       "      <th>dest_state</th>\n",
       "      <th>fare_per_mile</th>\n",
       "    </tr>\n",
       "  </thead>\n",
       "  <tbody>\n",
       "    <tr>\n",
       "      <th>0</th>\n",
       "      <td>0</td>\n",
       "      <td>2021</td>\n",
       "      <td>3</td>\n",
       "      <td>Allentown/Bethlehem/Easton, PA</td>\n",
       "      <td>Tampa, FL (Metropolitan Area)</td>\n",
       "      <td>ABE</td>\n",
       "      <td>PIE</td>\n",
       "      <td>970</td>\n",
       "      <td>180</td>\n",
       "      <td>81.43</td>\n",
       "      <td>G4</td>\n",
       "      <td>1.0000</td>\n",
       "      <td>81.43</td>\n",
       "      <td>G4</td>\n",
       "      <td>1.0000</td>\n",
       "      <td>81.43</td>\n",
       "      <td>Allentown/Bethlehem/Easton</td>\n",
       "      <td>PA</td>\n",
       "      <td>Tampa</td>\n",
       "      <td>FL (Metropolitan Area)</td>\n",
       "      <td>0.083948</td>\n",
       "    </tr>\n",
       "    <tr>\n",
       "      <th>1</th>\n",
       "      <td>1</td>\n",
       "      <td>2021</td>\n",
       "      <td>3</td>\n",
       "      <td>Allentown/Bethlehem/Easton, PA</td>\n",
       "      <td>Tampa, FL (Metropolitan Area)</td>\n",
       "      <td>ABE</td>\n",
       "      <td>TPA</td>\n",
       "      <td>970</td>\n",
       "      <td>19</td>\n",
       "      <td>208.93</td>\n",
       "      <td>DL</td>\n",
       "      <td>0.4659</td>\n",
       "      <td>219.98</td>\n",
       "      <td>UA</td>\n",
       "      <td>0.1193</td>\n",
       "      <td>154.11</td>\n",
       "      <td>Allentown/Bethlehem/Easton</td>\n",
       "      <td>PA</td>\n",
       "      <td>Tampa</td>\n",
       "      <td>FL (Metropolitan Area)</td>\n",
       "      <td>0.215392</td>\n",
       "    </tr>\n",
       "  </tbody>\n",
       "</table>\n",
       "</div>"
      ],
      "text/plain": [
       "   Unnamed: 0  Year  quarter                           city1  \\\n",
       "0           0  2021        3  Allentown/Bethlehem/Easton, PA   \n",
       "1           1  2021        3  Allentown/Bethlehem/Easton, PA   \n",
       "\n",
       "                           city2 airport_1 airport_2  nsmiles  passengers  \\\n",
       "0  Tampa, FL (Metropolitan Area)       ABE       PIE      970         180   \n",
       "1  Tampa, FL (Metropolitan Area)       ABE       TPA      970          19   \n",
       "\n",
       "     fare carrier_lg  large_ms  fare_lg carrier_low   lf_ms  fare_low  \\\n",
       "0   81.43         G4    1.0000    81.43          G4  1.0000     81.43   \n",
       "1  208.93         DL    0.4659   219.98          UA  0.1193    154.11   \n",
       "\n",
       "                     dep_city dep_state dest_city               dest_state  \\\n",
       "0  Allentown/Bethlehem/Easton        PA     Tampa   FL (Metropolitan Area)   \n",
       "1  Allentown/Bethlehem/Easton        PA     Tampa   FL (Metropolitan Area)   \n",
       "\n",
       "   fare_per_mile  \n",
       "0       0.083948  \n",
       "1       0.215392  "
      ]
     },
     "execution_count": 5,
     "metadata": {},
     "output_type": "execute_result"
    }
   ],
   "source": [
    "Flights = pd.read_csv(\"/kaggle/input/flights-after-eda/Flights.csv\")\n",
    "df = Flights.copy()\n",
    "df.head(2)"
   ]
  },
  {
   "cell_type": "code",
   "execution_count": 6,
   "id": "c8b4361e",
   "metadata": {
    "execution": {
     "iopub.execute_input": "2024-09-18T17:21:35.872568Z",
     "iopub.status.busy": "2024-09-18T17:21:35.872177Z",
     "iopub.status.idle": "2024-09-18T17:21:35.900499Z",
     "shell.execute_reply": "2024-09-18T17:21:35.899676Z"
    },
    "papermill": {
     "duration": 0.045262,
     "end_time": "2024-09-18T17:21:35.902769",
     "exception": false,
     "start_time": "2024-09-18T17:21:35.857507",
     "status": "completed"
    },
    "tags": []
   },
   "outputs": [],
   "source": [
    "df.drop(columns=[\"Unnamed: 0\",\"city1\",\"city2\",\"fare_low\",'fare_lg',\"fare_per_mile\"] , axis = 1 , inplace=True) \n",
    "# # gereksizler ayrıca fare_lg , fare_low ,  fare_per_mile sütunları da silinmeli modele geçmeden önce."
   ]
  },
  {
   "cell_type": "code",
   "execution_count": 7,
   "id": "325dbcd4",
   "metadata": {
    "execution": {
     "iopub.execute_input": "2024-09-18T17:21:35.929453Z",
     "iopub.status.busy": "2024-09-18T17:21:35.929091Z",
     "iopub.status.idle": "2024-09-18T17:21:35.948764Z",
     "shell.execute_reply": "2024-09-18T17:21:35.947838Z"
    },
    "papermill": {
     "duration": 0.035493,
     "end_time": "2024-09-18T17:21:35.951045",
     "exception": false,
     "start_time": "2024-09-18T17:21:35.915552",
     "status": "completed"
    },
    "tags": []
   },
   "outputs": [
    {
     "data": {
      "text/html": [
       "<div>\n",
       "<style scoped>\n",
       "    .dataframe tbody tr th:only-of-type {\n",
       "        vertical-align: middle;\n",
       "    }\n",
       "\n",
       "    .dataframe tbody tr th {\n",
       "        vertical-align: top;\n",
       "    }\n",
       "\n",
       "    .dataframe thead th {\n",
       "        text-align: right;\n",
       "    }\n",
       "</style>\n",
       "<table border=\"1\" class=\"dataframe\">\n",
       "  <thead>\n",
       "    <tr style=\"text-align: right;\">\n",
       "      <th></th>\n",
       "      <th>Year</th>\n",
       "      <th>quarter</th>\n",
       "      <th>airport_1</th>\n",
       "      <th>airport_2</th>\n",
       "      <th>nsmiles</th>\n",
       "      <th>passengers</th>\n",
       "      <th>fare</th>\n",
       "      <th>carrier_lg</th>\n",
       "      <th>large_ms</th>\n",
       "      <th>carrier_low</th>\n",
       "      <th>lf_ms</th>\n",
       "      <th>dep_city</th>\n",
       "      <th>dep_state</th>\n",
       "      <th>dest_city</th>\n",
       "      <th>dest_state</th>\n",
       "    </tr>\n",
       "  </thead>\n",
       "  <tbody>\n",
       "    <tr>\n",
       "      <th>0</th>\n",
       "      <td>2021</td>\n",
       "      <td>3</td>\n",
       "      <td>ABE</td>\n",
       "      <td>PIE</td>\n",
       "      <td>970</td>\n",
       "      <td>180</td>\n",
       "      <td>81.43</td>\n",
       "      <td>G4</td>\n",
       "      <td>1.0000</td>\n",
       "      <td>G4</td>\n",
       "      <td>1.0000</td>\n",
       "      <td>Allentown/Bethlehem/Easton</td>\n",
       "      <td>PA</td>\n",
       "      <td>Tampa</td>\n",
       "      <td>FL (Metropolitan Area)</td>\n",
       "    </tr>\n",
       "    <tr>\n",
       "      <th>1</th>\n",
       "      <td>2021</td>\n",
       "      <td>3</td>\n",
       "      <td>ABE</td>\n",
       "      <td>TPA</td>\n",
       "      <td>970</td>\n",
       "      <td>19</td>\n",
       "      <td>208.93</td>\n",
       "      <td>DL</td>\n",
       "      <td>0.4659</td>\n",
       "      <td>UA</td>\n",
       "      <td>0.1193</td>\n",
       "      <td>Allentown/Bethlehem/Easton</td>\n",
       "      <td>PA</td>\n",
       "      <td>Tampa</td>\n",
       "      <td>FL (Metropolitan Area)</td>\n",
       "    </tr>\n",
       "    <tr>\n",
       "      <th>2</th>\n",
       "      <td>2021</td>\n",
       "      <td>3</td>\n",
       "      <td>ABQ</td>\n",
       "      <td>DAL</td>\n",
       "      <td>580</td>\n",
       "      <td>204</td>\n",
       "      <td>184.56</td>\n",
       "      <td>WN</td>\n",
       "      <td>0.9968</td>\n",
       "      <td>WN</td>\n",
       "      <td>0.9968</td>\n",
       "      <td>Albuquerque</td>\n",
       "      <td>NM</td>\n",
       "      <td>Dallas/Fort Worth</td>\n",
       "      <td>TX</td>\n",
       "    </tr>\n",
       "    <tr>\n",
       "      <th>3</th>\n",
       "      <td>2021</td>\n",
       "      <td>3</td>\n",
       "      <td>ABQ</td>\n",
       "      <td>DFW</td>\n",
       "      <td>580</td>\n",
       "      <td>264</td>\n",
       "      <td>182.64</td>\n",
       "      <td>AA</td>\n",
       "      <td>0.9774</td>\n",
       "      <td>AA</td>\n",
       "      <td>0.9774</td>\n",
       "      <td>Albuquerque</td>\n",
       "      <td>NM</td>\n",
       "      <td>Dallas/Fort Worth</td>\n",
       "      <td>TX</td>\n",
       "    </tr>\n",
       "    <tr>\n",
       "      <th>4</th>\n",
       "      <td>2021</td>\n",
       "      <td>3</td>\n",
       "      <td>ABQ</td>\n",
       "      <td>PHX</td>\n",
       "      <td>328</td>\n",
       "      <td>398</td>\n",
       "      <td>177.11</td>\n",
       "      <td>WN</td>\n",
       "      <td>0.6061</td>\n",
       "      <td>AA</td>\n",
       "      <td>0.3939</td>\n",
       "      <td>Albuquerque</td>\n",
       "      <td>NM</td>\n",
       "      <td>Phoenix</td>\n",
       "      <td>AZ</td>\n",
       "    </tr>\n",
       "  </tbody>\n",
       "</table>\n",
       "</div>"
      ],
      "text/plain": [
       "   Year  quarter airport_1 airport_2  nsmiles  passengers    fare carrier_lg  \\\n",
       "0  2021        3       ABE       PIE      970         180   81.43         G4   \n",
       "1  2021        3       ABE       TPA      970          19  208.93         DL   \n",
       "2  2021        3       ABQ       DAL      580         204  184.56         WN   \n",
       "3  2021        3       ABQ       DFW      580         264  182.64         AA   \n",
       "4  2021        3       ABQ       PHX      328         398  177.11         WN   \n",
       "\n",
       "   large_ms carrier_low   lf_ms                    dep_city dep_state  \\\n",
       "0    1.0000          G4  1.0000  Allentown/Bethlehem/Easton        PA   \n",
       "1    0.4659          UA  0.1193  Allentown/Bethlehem/Easton        PA   \n",
       "2    0.9968          WN  0.9968                 Albuquerque        NM   \n",
       "3    0.9774          AA  0.9774                 Albuquerque        NM   \n",
       "4    0.6061          AA  0.3939                 Albuquerque        NM   \n",
       "\n",
       "           dest_city               dest_state  \n",
       "0              Tampa   FL (Metropolitan Area)  \n",
       "1              Tampa   FL (Metropolitan Area)  \n",
       "2  Dallas/Fort Worth                       TX  \n",
       "3  Dallas/Fort Worth                       TX  \n",
       "4            Phoenix                       AZ  "
      ]
     },
     "execution_count": 7,
     "metadata": {},
     "output_type": "execute_result"
    }
   ],
   "source": [
    "df.head()"
   ]
  },
  {
   "cell_type": "code",
   "execution_count": 8,
   "id": "2eb4b944",
   "metadata": {
    "execution": {
     "iopub.execute_input": "2024-09-18T17:21:35.978604Z",
     "iopub.status.busy": "2024-09-18T17:21:35.978193Z",
     "iopub.status.idle": "2024-09-18T17:21:36.325285Z",
     "shell.execute_reply": "2024-09-18T17:21:36.324166Z"
    },
    "papermill": {
     "duration": 0.364254,
     "end_time": "2024-09-18T17:21:36.328590",
     "exception": false,
     "start_time": "2024-09-18T17:21:35.964336",
     "status": "completed"
    },
    "scrolled": true,
    "tags": []
   },
   "outputs": [
    {
     "name": "stdout",
     "output_type": "stream",
     "text": [
      "Observations: 230745\n",
      "Variables: 15\n",
      "cat_cols: 1\n",
      "num_cols: 6\n",
      "cat_but_car: 8\n",
      "num_but_cat: 1\n",
      "********************\n",
      "Categorical Columns: ['quarter']\n",
      "----------------------------------------\n",
      "Numerical Columns: ['Year', 'nsmiles', 'passengers', 'fare', 'large_ms', 'lf_ms']\n",
      "--------------------------------------------------------------------------------------------------------------\n",
      "Categorical But High Cardinality Columns: ['airport_1', 'airport_2', 'carrier_lg', 'carrier_low', 'dep_city', 'dep_state', 'dest_city', 'dest_state']\n"
     ]
    }
   ],
   "source": [
    "cat_cols, num_cols, cat_but_car = grab_col_names(df , cat_th= 5 ,car_th=20 )\n",
    "print(\"**\"*10)\n",
    "print(\"Categorical Columns:\", cat_cols)\n",
    "print(\"--\"*20)\n",
    "print(\"Numerical Columns:\", num_cols)\n",
    "print(\"--\"*55)\n",
    "print(\"Categorical But High Cardinality Columns:\", cat_but_car)"
   ]
  },
  {
   "cell_type": "code",
   "execution_count": 9,
   "id": "1a5e287b",
   "metadata": {
    "execution": {
     "iopub.execute_input": "2024-09-18T17:21:36.356562Z",
     "iopub.status.busy": "2024-09-18T17:21:36.356215Z",
     "iopub.status.idle": "2024-09-18T17:21:36.447339Z",
     "shell.execute_reply": "2024-09-18T17:21:36.446320Z"
    },
    "papermill": {
     "duration": 0.107306,
     "end_time": "2024-09-18T17:21:36.449966",
     "exception": false,
     "start_time": "2024-09-18T17:21:36.342660",
     "status": "completed"
    },
    "tags": []
   },
   "outputs": [
    {
     "data": {
      "text/html": [
       "<div>\n",
       "<style scoped>\n",
       "    .dataframe tbody tr th:only-of-type {\n",
       "        vertical-align: middle;\n",
       "    }\n",
       "\n",
       "    .dataframe tbody tr th {\n",
       "        vertical-align: top;\n",
       "    }\n",
       "\n",
       "    .dataframe thead th {\n",
       "        text-align: right;\n",
       "    }\n",
       "</style>\n",
       "<table border=\"1\" class=\"dataframe\">\n",
       "  <thead>\n",
       "    <tr style=\"text-align: right;\">\n",
       "      <th></th>\n",
       "      <th>Year</th>\n",
       "      <th>quarter</th>\n",
       "      <th>nsmiles</th>\n",
       "      <th>passengers</th>\n",
       "      <th>fare</th>\n",
       "      <th>large_ms</th>\n",
       "      <th>lf_ms</th>\n",
       "    </tr>\n",
       "  </thead>\n",
       "  <tbody>\n",
       "    <tr>\n",
       "      <th>count</th>\n",
       "      <td>230745.000000</td>\n",
       "      <td>230745.000000</td>\n",
       "      <td>230745.000000</td>\n",
       "      <td>230745.000000</td>\n",
       "      <td>230745.000000</td>\n",
       "      <td>230745.000000</td>\n",
       "      <td>230745.000000</td>\n",
       "    </tr>\n",
       "    <tr>\n",
       "      <th>mean</th>\n",
       "      <td>2008.516445</td>\n",
       "      <td>2.481094</td>\n",
       "      <td>1198.906585</td>\n",
       "      <td>250.585998</td>\n",
       "      <td>213.998637</td>\n",
       "      <td>0.663867</td>\n",
       "      <td>0.446963</td>\n",
       "    </tr>\n",
       "    <tr>\n",
       "      <th>std</th>\n",
       "      <td>8.693293</td>\n",
       "      <td>1.122892</td>\n",
       "      <td>691.661434</td>\n",
       "      <td>345.071133</td>\n",
       "      <td>69.665023</td>\n",
       "      <td>0.223402</td>\n",
       "      <td>0.331128</td>\n",
       "    </tr>\n",
       "    <tr>\n",
       "      <th>min</th>\n",
       "      <td>1993.000000</td>\n",
       "      <td>1.000000</td>\n",
       "      <td>122.000000</td>\n",
       "      <td>0.000000</td>\n",
       "      <td>50.000000</td>\n",
       "      <td>0.100000</td>\n",
       "      <td>0.010000</td>\n",
       "    </tr>\n",
       "    <tr>\n",
       "      <th>25%</th>\n",
       "      <td>2001.000000</td>\n",
       "      <td>1.000000</td>\n",
       "      <td>643.000000</td>\n",
       "      <td>23.000000</td>\n",
       "      <td>164.230000</td>\n",
       "      <td>0.480000</td>\n",
       "      <td>0.150000</td>\n",
       "    </tr>\n",
       "    <tr>\n",
       "      <th>50%</th>\n",
       "      <td>2008.000000</td>\n",
       "      <td>2.000000</td>\n",
       "      <td>1028.000000</td>\n",
       "      <td>113.000000</td>\n",
       "      <td>207.990000</td>\n",
       "      <td>0.650400</td>\n",
       "      <td>0.360000</td>\n",
       "    </tr>\n",
       "    <tr>\n",
       "      <th>75%</th>\n",
       "      <td>2016.000000</td>\n",
       "      <td>3.000000</td>\n",
       "      <td>1733.000000</td>\n",
       "      <td>322.000000</td>\n",
       "      <td>259.340000</td>\n",
       "      <td>0.870000</td>\n",
       "      <td>0.743400</td>\n",
       "    </tr>\n",
       "    <tr>\n",
       "      <th>max</th>\n",
       "      <td>2024.000000</td>\n",
       "      <td>4.000000</td>\n",
       "      <td>2724.000000</td>\n",
       "      <td>1838.000000</td>\n",
       "      <td>457.000000</td>\n",
       "      <td>1.000000</td>\n",
       "      <td>1.000000</td>\n",
       "    </tr>\n",
       "  </tbody>\n",
       "</table>\n",
       "</div>"
      ],
      "text/plain": [
       "                Year        quarter        nsmiles     passengers  \\\n",
       "count  230745.000000  230745.000000  230745.000000  230745.000000   \n",
       "mean     2008.516445       2.481094    1198.906585     250.585998   \n",
       "std         8.693293       1.122892     691.661434     345.071133   \n",
       "min      1993.000000       1.000000     122.000000       0.000000   \n",
       "25%      2001.000000       1.000000     643.000000      23.000000   \n",
       "50%      2008.000000       2.000000    1028.000000     113.000000   \n",
       "75%      2016.000000       3.000000    1733.000000     322.000000   \n",
       "max      2024.000000       4.000000    2724.000000    1838.000000   \n",
       "\n",
       "                fare       large_ms          lf_ms  \n",
       "count  230745.000000  230745.000000  230745.000000  \n",
       "mean      213.998637       0.663867       0.446963  \n",
       "std        69.665023       0.223402       0.331128  \n",
       "min        50.000000       0.100000       0.010000  \n",
       "25%       164.230000       0.480000       0.150000  \n",
       "50%       207.990000       0.650400       0.360000  \n",
       "75%       259.340000       0.870000       0.743400  \n",
       "max       457.000000       1.000000       1.000000  "
      ]
     },
     "execution_count": 9,
     "metadata": {},
     "output_type": "execute_result"
    }
   ],
   "source": [
    "df.describe()"
   ]
  },
  {
   "cell_type": "code",
   "execution_count": 10,
   "id": "666f3f52",
   "metadata": {
    "execution": {
     "iopub.execute_input": "2024-09-18T17:21:36.483531Z",
     "iopub.status.busy": "2024-09-18T17:21:36.482666Z",
     "iopub.status.idle": "2024-09-18T17:21:37.093541Z",
     "shell.execute_reply": "2024-09-18T17:21:37.092546Z"
    },
    "papermill": {
     "duration": 0.632335,
     "end_time": "2024-09-18T17:21:37.096247",
     "exception": false,
     "start_time": "2024-09-18T17:21:36.463912",
     "status": "completed"
    },
    "tags": []
   },
   "outputs": [
    {
     "data": {
      "text/plain": [
       "<Axes: >"
      ]
     },
     "execution_count": 10,
     "metadata": {},
     "output_type": "execute_result"
    },
    {
     "data": {
      "image/png": "[encoded data removed]",
      "text/plain": [
       "<Figure size 640x480 with 2 Axes>"
      ]
     },
     "metadata": {},
     "output_type": "display_data"
    }
   ],
   "source": [
    "sns.heatmap(data = df.corr(numeric_only=True) ,annot = True )"
   ]
  },
  {
   "cell_type": "markdown",
   "id": "feb18a5d",
   "metadata": {
    "papermill": {
     "duration": 0.013986,
     "end_time": "2024-09-18T17:21:37.124603",
     "exception": false,
     "start_time": "2024-09-18T17:21:37.110617",
     "status": "completed"
    },
    "tags": []
   },
   "source": [
    "Split the dataset into train and test, Encoding and Reset indexes."
   ]
  },
  {
   "cell_type": "code",
   "execution_count": 11,
   "id": "53aaa572",
   "metadata": {
    "execution": {
     "iopub.execute_input": "2024-09-18T17:21:37.153243Z",
     "iopub.status.busy": "2024-09-18T17:21:37.152944Z",
     "iopub.status.idle": "2024-09-18T17:21:39.268525Z",
     "shell.execute_reply": "2024-09-18T17:21:39.267729Z"
    },
    "papermill": {
     "duration": 2.133011,
     "end_time": "2024-09-18T17:21:39.271179",
     "exception": false,
     "start_time": "2024-09-18T17:21:37.138168",
     "status": "completed"
    },
    "tags": []
   },
   "outputs": [
    {
     "name": "stdout",
     "output_type": "stream",
     "text": [
      "X columns:  Index(['Year', 'quarter', 'airport_1', 'airport_2', 'nsmiles', 'passengers',\n",
      "       'carrier_lg', 'large_ms', 'carrier_low', 'lf_ms', 'dep_city',\n",
      "       'dep_state', 'dest_city', 'dest_state'],\n",
      "      dtype='object')\n"
     ]
    }
   ],
   "source": [
    "X_train_final, X_test_final, y_train, y_test = encode_and_split_data(df=df,\n",
    "                                                                        target_col='fare',\n",
    "                                                                        cat_cols=cat_cols,\n",
    "                                                                        cat_but_car=cat_but_car,\n",
    "                                                                        num_cols=num_cols,\n",
    "                                                                        test_size=0.2,\n",
    "                                                                        random_state=42)"
   ]
  },
  {
   "cell_type": "code",
   "execution_count": 12,
   "id": "41dfdbab",
   "metadata": {
    "execution": {
     "iopub.execute_input": "2024-09-18T17:21:39.301133Z",
     "iopub.status.busy": "2024-09-18T17:21:39.300830Z",
     "iopub.status.idle": "2024-09-18T17:21:39.319927Z",
     "shell.execute_reply": "2024-09-18T17:21:39.318957Z"
    },
    "papermill": {
     "duration": 0.036751,
     "end_time": "2024-09-18T17:21:39.322233",
     "exception": false,
     "start_time": "2024-09-18T17:21:39.285482",
     "status": "completed"
    },
    "scrolled": true,
    "tags": []
   },
   "outputs": [
    {
     "data": {
      "text/html": [
       "<div>\n",
       "<style scoped>\n",
       "    .dataframe tbody tr th:only-of-type {\n",
       "        vertical-align: middle;\n",
       "    }\n",
       "\n",
       "    .dataframe tbody tr th {\n",
       "        vertical-align: top;\n",
       "    }\n",
       "\n",
       "    .dataframe thead th {\n",
       "        text-align: right;\n",
       "    }\n",
       "</style>\n",
       "<table border=\"1\" class=\"dataframe\">\n",
       "  <thead>\n",
       "    <tr style=\"text-align: right;\">\n",
       "      <th></th>\n",
       "      <th>airport_1</th>\n",
       "      <th>airport_2</th>\n",
       "      <th>carrier_lg</th>\n",
       "      <th>carrier_low</th>\n",
       "      <th>dep_city</th>\n",
       "      <th>dep_state</th>\n",
       "      <th>dest_city</th>\n",
       "      <th>dest_state</th>\n",
       "      <th>quarter_2</th>\n",
       "      <th>quarter_3</th>\n",
       "      <th>quarter_4</th>\n",
       "      <th>Year</th>\n",
       "      <th>nsmiles</th>\n",
       "      <th>passengers</th>\n",
       "      <th>large_ms</th>\n",
       "      <th>lf_ms</th>\n",
       "    </tr>\n",
       "  </thead>\n",
       "  <tbody>\n",
       "    <tr>\n",
       "      <th>0</th>\n",
       "      <td>217.040655</td>\n",
       "      <td>117.834017</td>\n",
       "      <td>115.972580</td>\n",
       "      <td>132.693529</td>\n",
       "      <td>217.040655</td>\n",
       "      <td>211.858268</td>\n",
       "      <td>204.467312</td>\n",
       "      <td>207.715333</td>\n",
       "      <td>0.0</td>\n",
       "      <td>1.0</td>\n",
       "      <td>0.0</td>\n",
       "      <td>2023</td>\n",
       "      <td>1225</td>\n",
       "      <td>189</td>\n",
       "      <td>1.00</td>\n",
       "      <td>1.00</td>\n",
       "    </tr>\n",
       "    <tr>\n",
       "      <th>1</th>\n",
       "      <td>204.437075</td>\n",
       "      <td>204.843620</td>\n",
       "      <td>228.993946</td>\n",
       "      <td>215.914340</td>\n",
       "      <td>204.437075</td>\n",
       "      <td>203.948472</td>\n",
       "      <td>226.001880</td>\n",
       "      <td>226.001880</td>\n",
       "      <td>0.0</td>\n",
       "      <td>0.0</td>\n",
       "      <td>0.0</td>\n",
       "      <td>2006</td>\n",
       "      <td>700</td>\n",
       "      <td>35</td>\n",
       "      <td>0.87</td>\n",
       "      <td>0.05</td>\n",
       "    </tr>\n",
       "  </tbody>\n",
       "</table>\n",
       "</div>"
      ],
      "text/plain": [
       "    airport_1   airport_2  carrier_lg  carrier_low    dep_city   dep_state  \\\n",
       "0  217.040655  117.834017  115.972580   132.693529  217.040655  211.858268   \n",
       "1  204.437075  204.843620  228.993946   215.914340  204.437075  203.948472   \n",
       "\n",
       "    dest_city  dest_state  quarter_2  quarter_3  quarter_4  Year  nsmiles  \\\n",
       "0  204.467312  207.715333        0.0        1.0        0.0  2023     1225   \n",
       "1  226.001880  226.001880        0.0        0.0        0.0  2006      700   \n",
       "\n",
       "   passengers  large_ms  lf_ms  \n",
       "0         189      1.00   1.00  \n",
       "1          35      0.87   0.05  "
      ]
     },
     "execution_count": 12,
     "metadata": {},
     "output_type": "execute_result"
    }
   ],
   "source": [
    "X_train_final.head(2)"
   ]
  },
  {
   "cell_type": "code",
   "execution_count": 13,
   "id": "d241771f",
   "metadata": {
    "execution": {
     "iopub.execute_input": "2024-09-18T17:21:39.352754Z",
     "iopub.status.busy": "2024-09-18T17:21:39.352479Z",
     "iopub.status.idle": "2024-09-18T17:21:39.369810Z",
     "shell.execute_reply": "2024-09-18T17:21:39.368718Z"
    },
    "papermill": {
     "duration": 0.03428,
     "end_time": "2024-09-18T17:21:39.371836",
     "exception": false,
     "start_time": "2024-09-18T17:21:39.337556",
     "status": "completed"
    },
    "tags": []
   },
   "outputs": [
    {
     "data": {
      "text/html": [
       "<div>\n",
       "<style scoped>\n",
       "    .dataframe tbody tr th:only-of-type {\n",
       "        vertical-align: middle;\n",
       "    }\n",
       "\n",
       "    .dataframe tbody tr th {\n",
       "        vertical-align: top;\n",
       "    }\n",
       "\n",
       "    .dataframe thead th {\n",
       "        text-align: right;\n",
       "    }\n",
       "</style>\n",
       "<table border=\"1\" class=\"dataframe\">\n",
       "  <thead>\n",
       "    <tr style=\"text-align: right;\">\n",
       "      <th></th>\n",
       "      <th>airport_1</th>\n",
       "      <th>airport_2</th>\n",
       "      <th>carrier_lg</th>\n",
       "      <th>carrier_low</th>\n",
       "      <th>dep_city</th>\n",
       "      <th>dep_state</th>\n",
       "      <th>dest_city</th>\n",
       "      <th>dest_state</th>\n",
       "      <th>quarter_2</th>\n",
       "      <th>quarter_3</th>\n",
       "      <th>quarter_4</th>\n",
       "      <th>Year</th>\n",
       "      <th>nsmiles</th>\n",
       "      <th>passengers</th>\n",
       "      <th>large_ms</th>\n",
       "      <th>lf_ms</th>\n",
       "    </tr>\n",
       "  </thead>\n",
       "  <tbody>\n",
       "    <tr>\n",
       "      <th>0</th>\n",
       "      <td>217.677498</td>\n",
       "      <td>181.118418</td>\n",
       "      <td>195.886608</td>\n",
       "      <td>225.159703</td>\n",
       "      <td>217.677498</td>\n",
       "      <td>223.262506</td>\n",
       "      <td>172.511776</td>\n",
       "      <td>182.348099</td>\n",
       "      <td>1.0</td>\n",
       "      <td>0.0</td>\n",
       "      <td>0.0</td>\n",
       "      <td>2011</td>\n",
       "      <td>460</td>\n",
       "      <td>212</td>\n",
       "      <td>0.8100</td>\n",
       "      <td>0.1300</td>\n",
       "    </tr>\n",
       "    <tr>\n",
       "      <th>1</th>\n",
       "      <td>239.129723</td>\n",
       "      <td>253.014917</td>\n",
       "      <td>228.993946</td>\n",
       "      <td>234.128035</td>\n",
       "      <td>239.129723</td>\n",
       "      <td>225.405087</td>\n",
       "      <td>226.001880</td>\n",
       "      <td>226.001880</td>\n",
       "      <td>0.0</td>\n",
       "      <td>0.0</td>\n",
       "      <td>0.0</td>\n",
       "      <td>2019</td>\n",
       "      <td>1002</td>\n",
       "      <td>10</td>\n",
       "      <td>0.6277</td>\n",
       "      <td>0.3404</td>\n",
       "    </tr>\n",
       "  </tbody>\n",
       "</table>\n",
       "</div>"
      ],
      "text/plain": [
       "    airport_1   airport_2  carrier_lg  carrier_low    dep_city   dep_state  \\\n",
       "0  217.677498  181.118418  195.886608   225.159703  217.677498  223.262506   \n",
       "1  239.129723  253.014917  228.993946   234.128035  239.129723  225.405087   \n",
       "\n",
       "    dest_city  dest_state  quarter_2  quarter_3  quarter_4  Year  nsmiles  \\\n",
       "0  172.511776  182.348099        1.0        0.0        0.0  2011      460   \n",
       "1  226.001880  226.001880        0.0        0.0        0.0  2019     1002   \n",
       "\n",
       "   passengers  large_ms   lf_ms  \n",
       "0         212    0.8100  0.1300  \n",
       "1          10    0.6277  0.3404  "
      ]
     },
     "execution_count": 13,
     "metadata": {},
     "output_type": "execute_result"
    }
   ],
   "source": [
    "X_test_final.head(2)"
   ]
  },
  {
   "cell_type": "markdown",
   "id": "c269175f",
   "metadata": {
    "papermill": {
     "duration": 0.013885,
     "end_time": "2024-09-18T17:21:39.399371",
     "exception": false,
     "start_time": "2024-09-18T17:21:39.385486",
     "status": "completed"
    },
    "tags": []
   },
   "source": [
    "Scaling should be done after Encoding.\n",
    "\n",
    "At this stage I can't decide which Scaling method to use so I will try to compare them all.\n",
    "\n",
    "* Note : It doesn't matter ,so I deleted the other alternatives."
   ]
  },
  {
   "cell_type": "code",
   "execution_count": 14,
   "id": "ca4b489c",
   "metadata": {
    "execution": {
     "iopub.execute_input": "2024-09-18T17:21:39.429846Z",
     "iopub.status.busy": "2024-09-18T17:21:39.429535Z",
     "iopub.status.idle": "2024-09-18T17:21:39.433482Z",
     "shell.execute_reply": "2024-09-18T17:21:39.432663Z"
    },
    "papermill": {
     "duration": 0.022351,
     "end_time": "2024-09-18T17:21:39.435673",
     "exception": false,
     "start_time": "2024-09-18T17:21:39.413322",
     "status": "completed"
    },
    "tags": []
   },
   "outputs": [],
   "source": [
    "# Scaling objects\n",
    "\n",
    "std_scaler = StandardScaler() # Normal dağılıma sahip veriler için. For Normal distributed features\n",
    "\n",
    "# dağılıma bakmak için görselleştiriyorum."
   ]
  },
  {
   "cell_type": "code",
   "execution_count": 15,
   "id": "38b77784",
   "metadata": {
    "execution": {
     "iopub.execute_input": "2024-09-18T17:21:39.464979Z",
     "iopub.status.busy": "2024-09-18T17:21:39.464648Z",
     "iopub.status.idle": "2024-09-18T17:21:43.572342Z",
     "shell.execute_reply": "2024-09-18T17:21:43.571379Z"
    },
    "papermill": {
     "duration": 4.125418,
     "end_time": "2024-09-18T17:21:43.574986",
     "exception": false,
     "start_time": "2024-09-18T17:21:39.449568",
     "status": "completed"
    },
    "tags": []
   },
   "outputs": [
    {
     "data": {
      "image/png": "[encoded data removed]",
      "text/plain": [
       "<Figure size 1200x600 with 1 Axes>"
      ]
     },
     "metadata": {},
     "output_type": "display_data"
    }
   ],
   "source": [
    "# The columns I want to see the distribution.\n",
    "columns_to_plot = X_train_final.columns\n",
    "\n",
    "\n",
    "plt.figure(figsize=(12, 6))\n",
    "\n",
    "\n",
    "for col in columns_to_plot:\n",
    "    sns.histplot(data=X_test_final[col], label=col, fill=True)\n",
    "\n",
    "\n",
    "plt.title(\"Dağılım Grafikleri\")\n",
    "plt.legend()\n",
    "\n",
    "plt.show()"
   ]
  },
  {
   "cell_type": "code",
   "execution_count": 16,
   "id": "8cb3ded6",
   "metadata": {
    "execution": {
     "iopub.execute_input": "2024-09-18T17:21:43.607005Z",
     "iopub.status.busy": "2024-09-18T17:21:43.606676Z",
     "iopub.status.idle": "2024-09-18T17:21:47.810190Z",
     "shell.execute_reply": "2024-09-18T17:21:47.809074Z"
    },
    "papermill": {
     "duration": 4.22203,
     "end_time": "2024-09-18T17:21:47.812657",
     "exception": false,
     "start_time": "2024-09-18T17:21:43.590627",
     "status": "completed"
    },
    "tags": []
   },
   "outputs": [
    {
     "data": {
      "image/png": "[encoded data removed]",
      "text/plain": [
       "<Figure size 1200x600 with 1 Axes>"
      ]
     },
     "metadata": {},
     "output_type": "display_data"
    }
   ],
   "source": [
    "## if I use Standart Scaling.\n",
    "\n",
    "X_train_standart = std_scaler.fit_transform(X_train_final)\n",
    "X_test_standart = std_scaler.transform(X_test_final)\n",
    "\n",
    "\n",
    "df_1 = pd.DataFrame(X_train_standart , columns=X_train_final.columns)\n",
    "df_2 = pd.DataFrame(X_test_standart, columns=X_test_final.columns)\n",
    "\n",
    "# Visualization: \n",
    "\n",
    "# columns_to_plot = X_train_final.columns #test ve train column aynı sonucu veriyor.\n",
    "\n",
    "\n",
    "plt.figure(figsize=(12, 6))\n",
    "\n",
    "\n",
    "for col in columns_to_plot:\n",
    "    sns.histplot(data=df_2[col], label=col, fill=True)\n",
    "\n",
    "\n",
    "plt.title(\"Standart Scaling Sonrası Dağılım Verileri\")\n",
    "plt.legend()\n",
    "plt.xlabel(\" \")\n",
    "plt.show()"
   ]
  },
  {
   "cell_type": "markdown",
   "id": "5fee9cbc",
   "metadata": {
    "papermill": {
     "duration": 0.016264,
     "end_time": "2024-09-18T17:21:47.845886",
     "exception": false,
     "start_time": "2024-09-18T17:21:47.829622",
     "status": "completed"
    },
    "tags": []
   },
   "source": [
    "scaling den sonra denemeler yaptığım için işimi kolaylaştırıyorum. aşağıda Modele vereceğim son veriler olacak."
   ]
  },
  {
   "cell_type": "code",
   "execution_count": 17,
   "id": "553dc8d4",
   "metadata": {
    "execution": {
     "iopub.execute_input": "2024-09-18T17:21:47.880159Z",
     "iopub.status.busy": "2024-09-18T17:21:47.879817Z",
     "iopub.status.idle": "2024-09-18T17:21:47.884064Z",
     "shell.execute_reply": "2024-09-18T17:21:47.883196Z"
    },
    "papermill": {
     "duration": 0.02409,
     "end_time": "2024-09-18T17:21:47.886208",
     "exception": false,
     "start_time": "2024-09-18T17:21:47.862118",
     "status": "completed"
    },
    "tags": []
   },
   "outputs": [],
   "source": [
    "# scale \n",
    "X_train = X_train_standart\n",
    "X_test = X_test_standart"
   ]
  },
  {
   "cell_type": "markdown",
   "id": "e4d153c5",
   "metadata": {
    "papermill": {
     "duration": 0.015804,
     "end_time": "2024-09-18T17:21:47.917947",
     "exception": false,
     "start_time": "2024-09-18T17:21:47.902143",
     "status": "completed"
    },
    "tags": []
   },
   "source": [
    "**X_train ve X_test np.array nesnesi. eğer df olarak kullanmak istersen df_1 ve df_2 olarak ulaşabilirsin. İçerikleri aynı.**\n",
    "\n",
    "X_train_final, X_test_final sonradan kullanılacak , encode edilmiş ancak scale edilmemiş df."
   ]
  },
  {
   "cell_type": "markdown",
   "id": "e278b0ac",
   "metadata": {
    "papermill": {
     "duration": 0.015105,
     "end_time": "2024-09-18T17:21:47.948834",
     "exception": false,
     "start_time": "2024-09-18T17:21:47.933729",
     "status": "completed"
    },
    "tags": []
   },
   "source": [
    "## **Model Creation**\n",
    "Bu kısımda tüm regresyon algoritmalarını denedim ancak aralarında en iyi sonucu RandomForestRegressor() verdi. Bu yüzden onunla devam ediyorum , kalanları sildim."
   ]
  },
  {
   "cell_type": "code",
   "execution_count": 18,
   "id": "a73a0bfb",
   "metadata": {
    "execution": {
     "iopub.execute_input": "2024-09-18T17:21:47.981259Z",
     "iopub.status.busy": "2024-09-18T17:21:47.980975Z",
     "iopub.status.idle": "2024-09-18T17:22:02.073051Z",
     "shell.execute_reply": "2024-09-18T17:22:02.071959Z"
    },
    "papermill": {
     "duration": 14.110674,
     "end_time": "2024-09-18T17:22:02.075135",
     "exception": false,
     "start_time": "2024-09-18T17:21:47.964461",
     "status": "completed"
    },
    "tags": []
   },
   "outputs": [
    {
     "name": "stdout",
     "output_type": "stream",
     "text": [
      "Out-of-Bag Score: 0.6822467879904781\n",
      "Model Performance\n",
      "Average Error: 19.3221 degrees.\n",
      "Accuracy = 90.63%.\n",
      "Mean Squared Error: 815.8209042699084\n",
      "Mean Absolute Error: 19.32206947062775\n",
      "R² Score: 0.8313453920455188\n"
     ]
    }
   ],
   "source": [
    "# Fitting Random Forest Regression to the dataset\n",
    "regressor = RandomForestRegressor(n_estimators=10, random_state=0, oob_score=True)\n",
    "\n",
    "# Fit the regressor with x and y data\n",
    "regressor.fit(X_train, y_train)\n",
    "\n",
    "oob_score = regressor.oob_score_\n",
    "print(f'Out-of-Bag Score: {oob_score}')\n",
    "\n",
    "# Evaluating the model\n",
    "\n",
    "accuracy = evaluate(regressor, X_test, y_test)"
   ]
  },
  {
   "cell_type": "markdown",
   "id": "8e4709f0",
   "metadata": {
    "papermill": {
     "duration": 0.016593,
     "end_time": "2024-09-18T17:22:02.109016",
     "exception": false,
     "start_time": "2024-09-18T17:22:02.092423",
     "status": "completed"
    },
    "tags": []
   },
   "source": [
    "# HİPERPARAMETRE OPTİMİZASYONU"
   ]
  },
  {
   "cell_type": "code",
   "execution_count": 19,
   "id": "58c6d7be",
   "metadata": {
    "execution": {
     "iopub.execute_input": "2024-09-18T17:22:02.144748Z",
     "iopub.status.busy": "2024-09-18T17:22:02.143977Z",
     "iopub.status.idle": "2024-09-18T17:22:02.159032Z",
     "shell.execute_reply": "2024-09-18T17:22:02.158317Z"
    },
    "papermill": {
     "duration": 0.035103,
     "end_time": "2024-09-18T17:22:02.160922",
     "exception": false,
     "start_time": "2024-09-18T17:22:02.125819",
     "status": "completed"
    },
    "tags": []
   },
   "outputs": [],
   "source": [
    "# Başta 30k kayıt aldığım için bu kısmı çıkarıyorum. En son tekrar çalışacak.\n",
    "\n",
    "# df_1'den rastgele 10k kayıt çekiyorum. Kısa sürmesi için.\n",
    "X_subset = df_1.sample(n=10000, random_state=42)  # df_1  , X_train in df hali. birebir aynı. \n",
    "\n",
    "\n",
    "y_subset = y_train.loc[X_subset.index] # X_subset ile eşleşen kayıtları alıyor\n",
    "y_subset = y_subset.values.ravel()  # uyarı aldığımdan dolayı array haline çeviriyorum. Model için uygun olan buymuş."
   ]
  },
  {
   "cell_type": "code",
   "execution_count": 20,
   "id": "c0734ade",
   "metadata": {
    "execution": {
     "iopub.execute_input": "2024-09-18T17:22:02.196734Z",
     "iopub.status.busy": "2024-09-18T17:22:02.196102Z",
     "iopub.status.idle": "2024-09-18T17:22:02.204091Z",
     "shell.execute_reply": "2024-09-18T17:22:02.203052Z"
    },
    "papermill": {
     "duration": 0.02822,
     "end_time": "2024-09-18T17:22:02.206236",
     "exception": false,
     "start_time": "2024-09-18T17:22:02.178016",
     "status": "completed"
    },
    "tags": []
   },
   "outputs": [
    {
     "name": "stdout",
     "output_type": "stream",
     "text": [
      "{'n_estimators': [100, 200, 400, 600, 800, 1000, 1200], 'max_features': ['log2', 'sqrt'], 'max_depth': [10, 20, 30, 40, 50, 60, 70, 80, 90, None], 'min_samples_split': [2, 5], 'min_samples_leaf': [1, 2], 'bootstrap': [True, False]}\n"
     ]
    }
   ],
   "source": [
    "n_estimators = [100, 200, 400, 600, 800, 1000, 1200]\n",
    "\n",
    "# Number of features to consider at every split\n",
    "max_features = [\"log2\", 'sqrt']\n",
    "\n",
    "# Maximum number of levels in tree\n",
    "max_depth = [10, 20, 30, 40, 50, 60, 70, 80, 90, None]\n",
    "\n",
    "# Minimum number of samples required to split a node\n",
    "min_samples_split = [2, 5]\n",
    "\n",
    "# Minimum number of samples required at each leaf node\n",
    "min_samples_leaf = [1, 2]\n",
    "\n",
    "# Method of selecting samples for training each tree\n",
    "bootstrap = [True, False]\n",
    "\n",
    "# Create the random grid\n",
    "random_grid = {'n_estimators': n_estimators,\n",
    "               'max_features': max_features,\n",
    "               'max_depth': max_depth,\n",
    "               'min_samples_split': min_samples_split,\n",
    "               'min_samples_leaf': min_samples_leaf,\n",
    "               'bootstrap': bootstrap}\n",
    "print(random_grid)"
   ]
  },
  {
   "cell_type": "code",
   "execution_count": 21,
   "id": "5467b765",
   "metadata": {
    "execution": {
     "iopub.execute_input": "2024-09-18T17:22:02.243958Z",
     "iopub.status.busy": "2024-09-18T17:22:02.243181Z",
     "iopub.status.idle": "2024-09-18T17:32:08.522047Z",
     "shell.execute_reply": "2024-09-18T17:32:08.520986Z"
    },
    "papermill": {
     "duration": 606.317099,
     "end_time": "2024-09-18T17:32:08.541004",
     "exception": false,
     "start_time": "2024-09-18T17:22:02.223905",
     "status": "completed"
    },
    "tags": []
   },
   "outputs": [
    {
     "name": "stdout",
     "output_type": "stream",
     "text": [
      "Fitting 3 folds for each of 50 candidates, totalling 150 fits\n",
      "[CV] END bootstrap=True, max_depth=50, max_features=log2, min_samples_leaf=2, min_samples_split=2, n_estimators=1000; total time=  19.2s\n",
      "[CV] END bootstrap=False, max_depth=80, max_features=log2, min_samples_leaf=1, min_samples_split=5, n_estimators=800; total time=  21.6s\n",
      "[CV] END bootstrap=False, max_depth=90, max_features=sqrt, min_samples_leaf=2, min_samples_split=5, n_estimators=800; total time=  20.3s\n",
      "[CV] END bootstrap=False, max_depth=70, max_features=sqrt, min_samples_leaf=1, min_samples_split=5, n_estimators=1000; total time=  25.9s\n",
      "[CV] END bootstrap=True, max_depth=50, max_features=sqrt, min_samples_leaf=1, min_samples_split=5, n_estimators=1200; total time=  23.2s\n",
      "[CV] END bootstrap=True, max_depth=30, max_features=log2, min_samples_leaf=2, min_samples_split=2, n_estimators=400; total time=   7.4s\n",
      "[CV] END bootstrap=False, max_depth=40, max_features=log2, min_samples_leaf=1, min_samples_split=5, n_estimators=1000; total time=  27.2s\n",
      "[CV] END bootstrap=True, max_depth=20, max_features=sqrt, min_samples_leaf=1, min_samples_split=2, n_estimators=800; total time=  18.0s\n"
     ]
    },
    {
     "data": {
      "text/html": [
       "<style>#sk-container-id-1 {color: black;background-color: white;}#sk-container-id-1 pre{padding: 0;}#sk-container-id-1 div.sk-toggleable {background-color: white;}#sk-container-id-1 label.sk-toggleable__label {cursor: pointer;display: block;width: 100%;margin-bottom: 0;padding: 0.3em;box-sizing: border-box;text-align: center;}#sk-container-id-1 label.sk-toggleable__label-arrow:before {content: \"▸\";float: left;margin-right: 0.25em;color: #696969;}#sk-container-id-1 label.sk-toggleable__label-arrow:hover:before {color: black;}#sk-container-id-1 div.sk-estimator:hover label.sk-toggleable__label-arrow:before {color: black;}#sk-container-id-1 div.sk-toggleable__content {max-height: 0;max-width: 0;overflow: hidden;text-align: left;background-color: #f0f8ff;}#sk-container-id-1 div.sk-toggleable__content pre {margin: 0.2em;color: black;border-radius: 0.25em;background-color: #f0f8ff;}#sk-container-id-1 input.sk-toggleable__control:checked~div.sk-toggleable__content {max-height: 200px;max-width: 100%;overflow: auto;}#sk-container-id-1 input.sk-toggleable__control:checked~label.sk-toggleable__label-arrow:before {content: \"▾\";}#sk-container-id-1 div.sk-estimator input.sk-toggleable__control:checked~label.sk-toggleable__label {background-color: #d4ebff;}#sk-container-id-1 div.sk-label input.sk-toggleable__control:checked~label.sk-toggleable__label {background-color: #d4ebff;}#sk-container-id-1 input.sk-hidden--visually {border: 0;clip: rect(1px 1px 1px 1px);clip: rect(1px, 1px, 1px, 1px);height: 1px;margin: -1px;overflow: hidden;padding: 0;position: absolute;width: 1px;}#sk-container-id-1 div.sk-estimator {font-family: monospace;background-color: #f0f8ff;border: 1px dotted black;border-radius: 0.25em;box-sizing: border-box;margin-bottom: 0.5em;}#sk-container-id-1 div.sk-estimator:hover {background-color: #d4ebff;}#sk-container-id-1 div.sk-parallel-item::after {content: \"\";width: 100%;border-bottom: 1px solid gray;flex-grow: 1;}#sk-container-id-1 div.sk-label:hover label.sk-toggleable__label {background-color: #d4ebff;}#sk-container-id-1 div.sk-serial::before {content: \"\";position: absolute;border-left: 1px solid gray;box-sizing: border-box;top: 0;bottom: 0;left: 50%;z-index: 0;}#sk-container-id-1 div.sk-serial {display: flex;flex-direction: column;align-items: center;background-color: white;padding-right: 0.2em;padding-left: 0.2em;position: relative;}#sk-container-id-1 div.sk-item {position: relative;z-index: 1;}#sk-container-id-1 div.sk-parallel {display: flex;align-items: stretch;justify-content: center;background-color: white;position: relative;}#sk-container-id-1 div.sk-item::before, #sk-container-id-1 div.sk-parallel-item::before {content: \"\";position: absolute;border-left: 1px solid gray;box-sizing: border-box;top: 0;bottom: 0;left: 50%;z-index: -1;}#sk-container-id-1 div.sk-parallel-item {display: flex;flex-direction: column;z-index: 1;position: relative;background-color: white;}#sk-container-id-1 div.sk-parallel-item:first-child::after {align-self: flex-end;width: 50%;}#sk-container-id-1 div.sk-parallel-item:last-child::after {align-self: flex-start;width: 50%;}#sk-container-id-1 div.sk-parallel-item:only-child::after {width: 0;}#sk-container-id-1 div.sk-dashed-wrapped {border: 1px dashed gray;margin: 0 0.4em 0.5em 0.4em;box-sizing: border-box;padding-bottom: 0.4em;background-color: white;}#sk-container-id-1 div.sk-label label {font-family: monospace;font-weight: bold;display: inline-block;line-height: 1.2em;}#sk-container-id-1 div.sk-label-container {text-align: center;}#sk-container-id-1 div.sk-container {/* jupyter's `normalize.less` sets `[hidden] { display: none; }` but bootstrap.min.css set `[hidden] { display: none !important; }` so we also need the `!important` here to be able to override the default hidden behavior on the sphinx rendered scikit-learn.org. See: https://github.com/scikit-learn/scikit-learn/issues/21755 */display: inline-block !important;position: relative;}#sk-container-id-1 div.sk-text-repr-fallback {display: none;}</style><div id=\"sk-container-id-1\" class=\"sk-top-container\"><div class=\"sk-text-repr-fallback\"><pre>RandomizedSearchCV(cv=3, estimator=RandomForestRegressor(), n_iter=50,\n",
       "                   n_jobs=-1,\n",
       "                   param_distributions={&#x27;bootstrap&#x27;: [True, False],\n",
       "                                        &#x27;max_depth&#x27;: [10, 20, 30, 40, 50, 60,\n",
       "                                                      70, 80, 90, None],\n",
       "                                        &#x27;max_features&#x27;: [&#x27;log2&#x27;, &#x27;sqrt&#x27;],\n",
       "                                        &#x27;min_samples_leaf&#x27;: [1, 2],\n",
       "                                        &#x27;min_samples_split&#x27;: [2, 5],\n",
       "                                        &#x27;n_estimators&#x27;: [100, 200, 400, 600,\n",
       "                                                         800, 1000, 1200]},\n",
       "                   random_state=42, verbose=2)</pre><b>In a Jupyter environment, please rerun this cell to show the HTML representation or trust the notebook. <br />On GitHub, the HTML representation is unable to render, please try loading this page with nbviewer.org.</b></div><div class=\"sk-container\" hidden><div class=\"sk-item sk-dashed-wrapped\"><div class=\"sk-label-container\"><div class=\"sk-label sk-toggleable\"><input class=\"sk-toggleable__control sk-hidden--visually\" id=\"sk-estimator-id-1\" type=\"checkbox\" ><label for=\"sk-estimator-id-1\" class=\"sk-toggleable__label sk-toggleable__label-arrow\">RandomizedSearchCV</label><div class=\"sk-toggleable__content\"><pre>RandomizedSearchCV(cv=3, estimator=RandomForestRegressor(), n_iter=50,\n",
       "                   n_jobs=-1,\n",
       "                   param_distributions={&#x27;bootstrap&#x27;: [True, False],\n",
       "                                        &#x27;max_depth&#x27;: [10, 20, 30, 40, 50, 60,\n",
       "                                                      70, 80, 90, None],\n",
       "                                        &#x27;max_features&#x27;: [&#x27;log2&#x27;, &#x27;sqrt&#x27;],\n",
       "                                        &#x27;min_samples_leaf&#x27;: [1, 2],\n",
       "                                        &#x27;min_samples_split&#x27;: [2, 5],\n",
       "                                        &#x27;n_estimators&#x27;: [100, 200, 400, 600,\n",
       "                                                         800, 1000, 1200]},\n",
       "                   random_state=42, verbose=2)</pre></div></div></div><div class=\"sk-parallel\"><div class=\"sk-parallel-item\"><div class=\"sk-item\"><div class=\"sk-label-container\"><div class=\"sk-label sk-toggleable\"><input class=\"sk-toggleable__control sk-hidden--visually\" id=\"sk-estimator-id-2\" type=\"checkbox\" ><label for=\"sk-estimator-id-2\" class=\"sk-toggleable__label sk-toggleable__label-arrow\">estimator: RandomForestRegressor</label><div class=\"sk-toggleable__content\"><pre>RandomForestRegressor()</pre></div></div></div><div class=\"sk-serial\"><div class=\"sk-item\"><div class=\"sk-estimator sk-toggleable\"><input class=\"sk-toggleable__control sk-hidden--visually\" id=\"sk-estimator-id-3\" type=\"checkbox\" ><label for=\"sk-estimator-id-3\" class=\"sk-toggleable__label sk-toggleable__label-arrow\">RandomForestRegressor</label><div class=\"sk-toggleable__content\"><pre>RandomForestRegressor()</pre></div></div></div></div></div></div></div></div></div></div>"
      ],
      "text/plain": [
       "RandomizedSearchCV(cv=3, estimator=RandomForestRegressor(), n_iter=50,\n",
       "                   n_jobs=-1,\n",
       "                   param_distributions={'bootstrap': [True, False],\n",
       "                                        'max_depth': [10, 20, 30, 40, 50, 60,\n",
       "                                                      70, 80, 90, None],\n",
       "                                        'max_features': ['log2', 'sqrt'],\n",
       "                                        'min_samples_leaf': [1, 2],\n",
       "                                        'min_samples_split': [2, 5],\n",
       "                                        'n_estimators': [100, 200, 400, 600,\n",
       "                                                         800, 1000, 1200]},\n",
       "                   random_state=42, verbose=2)"
      ]
     },
     "execution_count": 21,
     "metadata": {},
     "output_type": "execute_result"
    }
   ],
   "source": [
    "# create base model to tune\n",
    "rf = RandomForestRegressor()\n",
    "\n",
    "# Random search of parameters, using 3 fold cross validation, \n",
    "# search across 100 different combinations, and use all available cores\n",
    "rf_random = RandomizedSearchCV(estimator = rf,\n",
    "                               param_distributions = random_grid,\n",
    "                               n_iter = 50,\n",
    "                               cv = 3,\n",
    "                               verbose=2,\n",
    "                               random_state=42,\n",
    "                               n_jobs = -1)\n",
    "\n",
    "\n",
    "# Fit the random search model on the subset. # Bu kısım son çalıştırmada değişecek !\n",
    "rf_random.fit(X_subset, y_subset)"
   ]
  },
  {
   "cell_type": "code",
   "execution_count": 22,
   "id": "0679acee",
   "metadata": {
    "execution": {
     "iopub.execute_input": "2024-09-18T17:32:08.576043Z",
     "iopub.status.busy": "2024-09-18T17:32:08.575126Z",
     "iopub.status.idle": "2024-09-18T17:32:08.929450Z",
     "shell.execute_reply": "2024-09-18T17:32:08.928359Z"
    },
    "papermill": {
     "duration": 0.374454,
     "end_time": "2024-09-18T17:32:08.931852",
     "exception": false,
     "start_time": "2024-09-18T17:32:08.557398",
     "status": "completed"
    },
    "tags": []
   },
   "outputs": [],
   "source": [
    "# Özellik Önem Analizi\n",
    "\n",
    "best_rf = rf_random.best_estimator_\n",
    "feature_importance = best_rf.feature_importances_"
   ]
  },
  {
   "cell_type": "code",
   "execution_count": 23,
   "id": "41c5d16f",
   "metadata": {
    "execution": {
     "iopub.execute_input": "2024-09-18T17:32:08.967312Z",
     "iopub.status.busy": "2024-09-18T17:32:08.966992Z",
     "iopub.status.idle": "2024-09-18T17:32:09.388656Z",
     "shell.execute_reply": "2024-09-18T17:32:09.387604Z"
    },
    "papermill": {
     "duration": 0.441292,
     "end_time": "2024-09-18T17:32:09.391239",
     "exception": false,
     "start_time": "2024-09-18T17:32:08.949947",
     "status": "completed"
    },
    "tags": []
   },
   "outputs": [
    {
     "data": {
      "image/png": "[encoded data removed]",
      "text/plain": [
       "<Figure size 1000x600 with 1 Axes>"
      ]
     },
     "metadata": {},
     "output_type": "display_data"
    }
   ],
   "source": [
    "plt.figure(figsize = (10,6))\n",
    "plt.bar(df_1.columns, feature_importance)\n",
    "plt.title('Özellik Önem Dereceleri')\n",
    "plt.xlabel('Özellikler')\n",
    "plt.ylabel('Önem Derecesi')\n",
    "plt.xticks(rotation=45)\n",
    "plt.tight_layout()\n",
    "plt.show()"
   ]
  },
  {
   "cell_type": "code",
   "execution_count": 24,
   "id": "9ae38005",
   "metadata": {
    "execution": {
     "iopub.execute_input": "2024-09-18T17:32:09.427684Z",
     "iopub.status.busy": "2024-09-18T17:32:09.427062Z",
     "iopub.status.idle": "2024-09-18T17:44:10.475814Z",
     "shell.execute_reply": "2024-09-18T17:44:10.474798Z"
    },
    "papermill": {
     "duration": 721.087963,
     "end_time": "2024-09-18T17:44:10.496791",
     "exception": false,
     "start_time": "2024-09-18T17:32:09.408828",
     "status": "completed"
    },
    "tags": []
   },
   "outputs": [
    {
     "name": "stdout",
     "output_type": "stream",
     "text": [
      "[CV] END bootstrap=True, max_depth=50, max_features=log2, min_samples_leaf=2, min_samples_split=2, n_estimators=1000; total time=  19.3s\n",
      "[CV] END bootstrap=False, max_depth=80, max_features=log2, min_samples_leaf=1, min_samples_split=5, n_estimators=800; total time=  21.4s\n",
      "[CV] END bootstrap=False, max_depth=90, max_features=sqrt, min_samples_leaf=2, min_samples_split=5, n_estimators=800; total time=  20.1s\n",
      "[CV] END bootstrap=False, max_depth=70, max_features=sqrt, min_samples_leaf=1, min_samples_split=5, n_estimators=1000; total time=  25.7s\n",
      "[CV] END bootstrap=False, max_depth=20, max_features=sqrt, min_samples_leaf=2, min_samples_split=2, n_estimators=400; total time=  10.6s\n",
      "[CV] END bootstrap=True, max_depth=30, max_features=log2, min_samples_leaf=2, min_samples_split=2, n_estimators=400; total time=   7.1s\n",
      "[CV] END bootstrap=True, max_depth=30, max_features=log2, min_samples_leaf=2, min_samples_split=2, n_estimators=400; total time=   7.4s\n",
      "[CV] END bootstrap=True, max_depth=60, max_features=log2, min_samples_leaf=2, min_samples_split=2, n_estimators=400; total time=   7.4s\n",
      "[CV] END bootstrap=False, max_depth=40, max_features=log2, min_samples_leaf=1, min_samples_split=5, n_estimators=1000; total time=  27.4s\n",
      "[CV] END bootstrap=True, max_depth=70, max_features=sqrt, min_samples_leaf=2, min_samples_split=2, n_estimators=400; total time=   7.4s\n",
      "[CV] END bootstrap=True, max_depth=70, max_features=sqrt, min_samples_leaf=2, min_samples_split=2, n_estimators=400; total time=   7.5s\n",
      "[CV] END bootstrap=True, max_depth=90, max_features=sqrt, min_samples_leaf=1, min_samples_split=2, n_estimators=1000; total time=  22.6s\n",
      "[CV] END bootstrap=False, max_depth=20, max_features=log2, min_samples_leaf=1, min_samples_split=2, n_estimators=800; total time=  25.2s\n",
      "[CV] END bootstrap=True, max_depth=80, max_features=sqrt, min_samples_leaf=1, min_samples_split=5, n_estimators=1000; total time=  19.5s\n",
      "[CV] END bootstrap=False, max_depth=40, max_features=sqrt, min_samples_leaf=1, min_samples_split=2, n_estimators=1000; total time=  32.5s\n",
      "[CV] END bootstrap=True, max_depth=30, max_features=log2, min_samples_leaf=1, min_samples_split=2, n_estimators=200; total time=   4.5s\n",
      "[CV] END bootstrap=True, max_depth=70, max_features=log2, min_samples_leaf=2, min_samples_split=2, n_estimators=200; total time=   3.6s\n",
      "[CV] END bootstrap=True, max_depth=20, max_features=log2, min_samples_leaf=1, min_samples_split=2, n_estimators=100; total time=   2.2s\n",
      "[CV] END bootstrap=False, max_depth=None, max_features=log2, min_samples_leaf=1, min_samples_split=5, n_estimators=100; total time=   2.7s\n",
      "[CV] END bootstrap=True, max_depth=None, max_features=sqrt, min_samples_leaf=1, min_samples_split=2, n_estimators=200; total time=   4.5s\n",
      "[CV] END bootstrap=True, max_depth=None, max_features=sqrt, min_samples_leaf=1, min_samples_split=2, n_estimators=200; total time=   4.5s\n",
      "[CV] END bootstrap=True, max_depth=None, max_features=sqrt, min_samples_leaf=1, min_samples_split=2, n_estimators=200; total time=   5.1s\n",
      "[CV] END bootstrap=False, max_depth=30, max_features=log2, min_samples_leaf=1, min_samples_split=2, n_estimators=1200; total time=  39.3s\n",
      "[CV] END bootstrap=True, max_depth=30, max_features=sqrt, min_samples_leaf=2, min_samples_split=2, n_estimators=800; total time=  14.3s\n",
      "[CV] END bootstrap=True, max_depth=None, max_features=log2, min_samples_leaf=2, min_samples_split=2, n_estimators=1000; total time=  19.0s\n",
      "[CV] END bootstrap=False, max_depth=30, max_features=sqrt, min_samples_leaf=2, min_samples_split=5, n_estimators=1000; total time=  25.3s\n",
      "[CV] END bootstrap=True, max_depth=60, max_features=sqrt, min_samples_leaf=2, min_samples_split=2, n_estimators=1200; total time=  21.9s\n",
      "[CV] END bootstrap=False, max_depth=90, max_features=log2, min_samples_leaf=2, min_samples_split=5, n_estimators=100; total time=   2.5s\n",
      "[CV] END bootstrap=False, max_depth=90, max_features=log2, min_samples_leaf=2, min_samples_split=5, n_estimators=100; total time=   2.6s\n",
      "[CV] END bootstrap=False, max_depth=60, max_features=log2, min_samples_leaf=1, min_samples_split=5, n_estimators=200; total time=   5.6s\n",
      "[CV] END bootstrap=False, max_depth=80, max_features=sqrt, min_samples_leaf=2, min_samples_split=2, n_estimators=600; total time=  15.2s\n",
      "[CV] END bootstrap=True, max_depth=80, max_features=sqrt, min_samples_leaf=2, min_samples_split=5, n_estimators=1200; total time=  21.9s\n",
      "[CV] END bootstrap=True, max_depth=70, max_features=sqrt, min_samples_leaf=2, min_samples_split=5, n_estimators=1000; total time=  17.8s\n",
      "[CV] END bootstrap=True, max_depth=90, max_features=sqrt, min_samples_leaf=1, min_samples_split=2, n_estimators=600; total time=  14.3s\n",
      "[CV] END bootstrap=False, max_depth=40, max_features=log2, min_samples_leaf=1, min_samples_split=2, n_estimators=400; total time=  13.1s\n",
      "[CV] END bootstrap=False, max_depth=40, max_features=log2, min_samples_leaf=1, min_samples_split=2, n_estimators=400; total time=  13.5s\n",
      "[CV] END bootstrap=False, max_depth=80, max_features=sqrt, min_samples_leaf=1, min_samples_split=5, n_estimators=800; total time=  21.3s\n",
      "[CV] END bootstrap=False, max_depth=50, max_features=log2, min_samples_leaf=1, min_samples_split=2, n_estimators=200; total time=   6.5s\n",
      "[CV] END bootstrap=True, max_depth=20, max_features=sqrt, min_samples_leaf=1, min_samples_split=5, n_estimators=1000; total time=  19.1s\n",
      "[CV] END bootstrap=True, max_depth=50, max_features=log2, min_samples_leaf=2, min_samples_split=2, n_estimators=1000; total time=  18.7s\n",
      "[CV] END bootstrap=True, max_depth=20, max_features=sqrt, min_samples_leaf=2, min_samples_split=2, n_estimators=600; total time=  11.6s\n",
      "[CV] END bootstrap=False, max_depth=90, max_features=sqrt, min_samples_leaf=2, min_samples_split=5, n_estimators=800; total time=  19.3s\n",
      "[CV] END bootstrap=True, max_depth=None, max_features=log2, min_samples_leaf=2, min_samples_split=2, n_estimators=800; total time=  15.5s\n",
      "[CV] END bootstrap=False, max_depth=70, max_features=sqrt, min_samples_leaf=1, min_samples_split=5, n_estimators=1000; total time=  26.1s\n",
      "[CV] END bootstrap=True, max_depth=50, max_features=sqrt, min_samples_leaf=1, min_samples_split=5, n_estimators=1200; total time=  22.3s\n",
      "[CV] END bootstrap=True, max_depth=60, max_features=log2, min_samples_leaf=2, min_samples_split=2, n_estimators=400; total time=   7.5s\n",
      "[CV] END bootstrap=False, max_depth=40, max_features=log2, min_samples_leaf=1, min_samples_split=5, n_estimators=1000; total time=  27.3s\n",
      "[CV] END bootstrap=True, max_depth=70, max_features=sqrt, min_samples_leaf=2, min_samples_split=2, n_estimators=400; total time=   8.2s\n",
      "[CV] END bootstrap=True, max_depth=90, max_features=sqrt, min_samples_leaf=1, min_samples_split=2, n_estimators=1000; total time=  22.6s\n",
      "[CV] END bootstrap=False, max_depth=None, max_features=sqrt, min_samples_leaf=2, min_samples_split=2, n_estimators=600; total time=  15.8s\n",
      "[CV] END bootstrap=False, max_depth=20, max_features=log2, min_samples_leaf=1, min_samples_split=2, n_estimators=800; total time=  25.4s\n",
      "[CV] END bootstrap=True, max_depth=10, max_features=sqrt, min_samples_leaf=2, min_samples_split=2, n_estimators=400; total time=   5.5s\n",
      "[CV] END bootstrap=False, max_depth=30, max_features=log2, min_samples_leaf=1, min_samples_split=5, n_estimators=100; total time=   2.7s\n",
      "[CV] END bootstrap=False, max_depth=40, max_features=sqrt, min_samples_leaf=1, min_samples_split=2, n_estimators=1000; total time=  32.3s\n",
      "[CV] END bootstrap=True, max_depth=30, max_features=log2, min_samples_leaf=1, min_samples_split=2, n_estimators=200; total time=   4.5s\n",
      "[CV] END bootstrap=True, max_depth=70, max_features=log2, min_samples_leaf=2, min_samples_split=2, n_estimators=200; total time=   3.6s\n",
      "[CV] END bootstrap=True, max_depth=20, max_features=log2, min_samples_leaf=1, min_samples_split=2, n_estimators=100; total time=   2.2s\n",
      "[CV] END bootstrap=False, max_depth=None, max_features=log2, min_samples_leaf=1, min_samples_split=5, n_estimators=100; total time=   2.7s\n",
      "[CV] END bootstrap=True, max_depth=80, max_features=sqrt, min_samples_leaf=1, min_samples_split=2, n_estimators=1000; total time=  23.1s\n",
      "[CV] END bootstrap=False, max_depth=30, max_features=log2, min_samples_leaf=1, min_samples_split=2, n_estimators=1200; total time=  39.8s\n",
      "[CV] END bootstrap=True, max_depth=None, max_features=log2, min_samples_leaf=2, min_samples_split=2, n_estimators=1000; total time=  19.2s\n",
      "[CV] END bootstrap=True, max_depth=70, max_features=log2, min_samples_leaf=2, min_samples_split=5, n_estimators=800; total time=  14.2s\n",
      "[CV] END bootstrap=False, max_depth=20, max_features=log2, min_samples_leaf=1, min_samples_split=2, n_estimators=200; total time=   6.1s\n",
      "[CV] END bootstrap=False, max_depth=20, max_features=log2, min_samples_leaf=1, min_samples_split=2, n_estimators=200; total time=   6.2s\n",
      "[CV] END bootstrap=False, max_depth=20, max_features=log2, min_samples_leaf=1, min_samples_split=2, n_estimators=200; total time=   6.7s\n",
      "[CV] END bootstrap=True, max_depth=60, max_features=sqrt, min_samples_leaf=2, min_samples_split=2, n_estimators=1200; total time=  21.9s\n",
      "[CV] END bootstrap=False, max_depth=90, max_features=log2, min_samples_leaf=2, min_samples_split=5, n_estimators=100; total time=   2.6s\n",
      "[CV] END bootstrap=False, max_depth=60, max_features=log2, min_samples_leaf=1, min_samples_split=5, n_estimators=200; total time=   6.0s\n",
      "[CV] END bootstrap=True, max_depth=80, max_features=sqrt, min_samples_leaf=1, min_samples_split=2, n_estimators=600; total time=  13.4s\n",
      "[CV] END bootstrap=True, max_depth=80, max_features=sqrt, min_samples_leaf=1, min_samples_split=2, n_estimators=600; total time=  13.5s\n",
      "[CV] END bootstrap=True, max_depth=70, max_features=sqrt, min_samples_leaf=2, min_samples_split=5, n_estimators=1000; total time=  18.3s\n",
      "[CV] END bootstrap=False, max_depth=None, max_features=sqrt, min_samples_leaf=2, min_samples_split=5, n_estimators=100; total time=   2.5s\n",
      "[CV] END bootstrap=False, max_depth=None, max_features=sqrt, min_samples_leaf=2, min_samples_split=5, n_estimators=100; total time=   2.5s\n",
      "[CV] END bootstrap=True, max_depth=90, max_features=sqrt, min_samples_leaf=1, min_samples_split=2, n_estimators=600; total time=  14.5s\n",
      "[CV] END bootstrap=False, max_depth=30, max_features=sqrt, min_samples_leaf=1, min_samples_split=2, n_estimators=1200; total time=  38.5s\n",
      "[CV] END bootstrap=False, max_depth=80, max_features=sqrt, min_samples_leaf=1, min_samples_split=5, n_estimators=800; total time=  20.9s\n",
      "[CV] END bootstrap=True, max_depth=20, max_features=sqrt, min_samples_leaf=1, min_samples_split=5, n_estimators=1000; total time=  18.9s\n",
      "[CV] END bootstrap=False, max_depth=None, max_features=sqrt, min_samples_leaf=2, min_samples_split=2, n_estimators=600; total time=  15.4s\n",
      "[CV] END bootstrap=False, max_depth=None, max_features=sqrt, min_samples_leaf=2, min_samples_split=2, n_estimators=600; total time=  15.9s\n",
      "[CV] END bootstrap=True, max_depth=80, max_features=sqrt, min_samples_leaf=1, min_samples_split=5, n_estimators=1000; total time=  18.7s\n",
      "[CV] END bootstrap=True, max_depth=10, max_features=sqrt, min_samples_leaf=2, min_samples_split=2, n_estimators=400; total time=   5.5s\n",
      "[CV] END bootstrap=True, max_depth=10, max_features=sqrt, min_samples_leaf=2, min_samples_split=2, n_estimators=400; total time=   5.2s\n",
      "[CV] END bootstrap=False, max_depth=30, max_features=log2, min_samples_leaf=1, min_samples_split=5, n_estimators=100; total time=   2.6s\n",
      "[CV] END bootstrap=False, max_depth=40, max_features=sqrt, min_samples_leaf=1, min_samples_split=2, n_estimators=1000; total time=  32.5s\n",
      "[CV] END bootstrap=True, max_depth=30, max_features=log2, min_samples_leaf=1, min_samples_split=2, n_estimators=200; total time=   4.5s\n",
      "[CV] END bootstrap=True, max_depth=70, max_features=log2, min_samples_leaf=2, min_samples_split=2, n_estimators=200; total time=   3.6s\n",
      "[CV] END bootstrap=True, max_depth=20, max_features=log2, min_samples_leaf=1, min_samples_split=2, n_estimators=100; total time=   2.2s\n",
      "[CV] END bootstrap=False, max_depth=None, max_features=log2, min_samples_leaf=1, min_samples_split=5, n_estimators=100; total time=   2.7s\n",
      "[CV] END bootstrap=True, max_depth=80, max_features=sqrt, min_samples_leaf=1, min_samples_split=2, n_estimators=1000; total time=  23.5s\n",
      "[CV] END bootstrap=False, max_depth=50, max_features=sqrt, min_samples_leaf=1, min_samples_split=2, n_estimators=200; total time=   6.4s\n",
      "[CV] END bootstrap=False, max_depth=50, max_features=sqrt, min_samples_leaf=1, min_samples_split=2, n_estimators=200; total time=   6.3s\n",
      "[CV] END bootstrap=False, max_depth=50, max_features=sqrt, min_samples_leaf=1, min_samples_split=2, n_estimators=200; total time=   6.4s\n",
      "[CV] END bootstrap=True, max_depth=30, max_features=sqrt, min_samples_leaf=2, min_samples_split=2, n_estimators=800; total time=  15.3s\n",
      "[CV] END bootstrap=True, max_depth=30, max_features=sqrt, min_samples_leaf=2, min_samples_split=2, n_estimators=800; total time=  14.4s\n",
      "[CV] END bootstrap=True, max_depth=70, max_features=log2, min_samples_leaf=2, min_samples_split=5, n_estimators=800; total time=  14.6s\n",
      "[CV] END bootstrap=False, max_depth=30, max_features=sqrt, min_samples_leaf=2, min_samples_split=5, n_estimators=1000; total time=  24.7s\n",
      "[CV] END bootstrap=True, max_depth=60, max_features=sqrt, min_samples_leaf=2, min_samples_split=2, n_estimators=1200; total time=  21.7s\n",
      "[CV] END bootstrap=True, max_depth=20, max_features=sqrt, min_samples_leaf=1, min_samples_split=2, n_estimators=400; total time=   9.4s\n",
      "[CV] END bootstrap=False, max_depth=80, max_features=sqrt, min_samples_leaf=2, min_samples_split=2, n_estimators=600; total time=  15.5s\n",
      "[CV] END bootstrap=True, max_depth=80, max_features=sqrt, min_samples_leaf=1, min_samples_split=2, n_estimators=600; total time=  13.6s\n",
      "[CV] END bootstrap=True, max_depth=80, max_features=sqrt, min_samples_leaf=2, min_samples_split=5, n_estimators=1200; total time=  21.3s\n",
      "[CV] END bootstrap=False, max_depth=None, max_features=sqrt, min_samples_leaf=2, min_samples_split=5, n_estimators=100; total time=   2.5s\n",
      "[CV] END bootstrap=True, max_depth=90, max_features=sqrt, min_samples_leaf=1, min_samples_split=2, n_estimators=600; total time=  14.3s\n",
      "[CV] END bootstrap=False, max_depth=30, max_features=sqrt, min_samples_leaf=1, min_samples_split=2, n_estimators=1200; total time=  39.7s\n",
      "[CV] END bootstrap=False, max_depth=80, max_features=sqrt, min_samples_leaf=1, min_samples_split=5, n_estimators=800; total time=  20.9s\n",
      "[CV] END bootstrap=False, max_depth=20, max_features=sqrt, min_samples_leaf=2, min_samples_split=5, n_estimators=400; total time=  10.4s\n",
      "[CV] END bootstrap=False, max_depth=20, max_features=sqrt, min_samples_leaf=2, min_samples_split=5, n_estimators=400; total time=   9.1s\n",
      "[CV] END bootstrap=True, max_depth=20, max_features=sqrt, min_samples_leaf=2, min_samples_split=2, n_estimators=600; total time=  11.3s\n",
      "[CV] END bootstrap=True, max_depth=20, max_features=sqrt, min_samples_leaf=2, min_samples_split=2, n_estimators=600; total time=  10.9s\n",
      "[CV] END bootstrap=False, max_depth=80, max_features=log2, min_samples_leaf=1, min_samples_split=5, n_estimators=800; total time=  21.9s\n",
      "[CV] END bootstrap=True, max_depth=None, max_features=log2, min_samples_leaf=2, min_samples_split=2, n_estimators=800; total time=  14.8s\n",
      "[CV] END bootstrap=True, max_depth=None, max_features=log2, min_samples_leaf=2, min_samples_split=2, n_estimators=800; total time=  14.6s\n",
      "[CV] END bootstrap=False, max_depth=20, max_features=sqrt, min_samples_leaf=2, min_samples_split=2, n_estimators=400; total time=  10.0s\n",
      "[CV] END bootstrap=False, max_depth=20, max_features=sqrt, min_samples_leaf=2, min_samples_split=2, n_estimators=400; total time=  10.6s\n",
      "[CV] END bootstrap=True, max_depth=50, max_features=sqrt, min_samples_leaf=1, min_samples_split=5, n_estimators=1200; total time=  22.2s\n",
      "[CV] END bootstrap=True, max_depth=60, max_features=log2, min_samples_leaf=2, min_samples_split=2, n_estimators=400; total time=   7.8s\n",
      "[CV] END bootstrap=True, max_depth=20, max_features=sqrt, min_samples_leaf=1, min_samples_split=2, n_estimators=800; total time=  17.9s\n",
      "[CV] END bootstrap=True, max_depth=20, max_features=sqrt, min_samples_leaf=1, min_samples_split=2, n_estimators=800; total time=  18.4s\n",
      "[CV] END bootstrap=True, max_depth=90, max_features=sqrt, min_samples_leaf=1, min_samples_split=2, n_estimators=1000; total time=  22.6s\n",
      "[CV] END bootstrap=False, max_depth=20, max_features=log2, min_samples_leaf=1, min_samples_split=2, n_estimators=800; total time=  25.4s\n",
      "[CV] END bootstrap=True, max_depth=80, max_features=sqrt, min_samples_leaf=1, min_samples_split=5, n_estimators=1000; total time=  19.4s\n",
      "[CV] END bootstrap=False, max_depth=30, max_features=log2, min_samples_leaf=1, min_samples_split=5, n_estimators=100; total time=   2.7s\n",
      "[CV] END bootstrap=True, max_depth=20, max_features=sqrt, min_samples_leaf=2, min_samples_split=5, n_estimators=800; total time=  14.0s\n",
      "[CV] END bootstrap=True, max_depth=20, max_features=sqrt, min_samples_leaf=2, min_samples_split=5, n_estimators=800; total time=  14.2s\n",
      "[CV] END bootstrap=True, max_depth=20, max_features=sqrt, min_samples_leaf=2, min_samples_split=5, n_estimators=800; total time=  14.0s\n",
      "[CV] END bootstrap=True, max_depth=80, max_features=sqrt, min_samples_leaf=1, min_samples_split=2, n_estimators=1000; total time=  22.7s\n",
      "[CV] END bootstrap=False, max_depth=30, max_features=log2, min_samples_leaf=1, min_samples_split=2, n_estimators=1200; total time=  40.5s\n",
      "[CV] END bootstrap=True, max_depth=None, max_features=log2, min_samples_leaf=2, min_samples_split=2, n_estimators=1000; total time=  19.4s\n",
      "[CV] END bootstrap=True, max_depth=70, max_features=log2, min_samples_leaf=2, min_samples_split=5, n_estimators=800; total time=  14.3s\n",
      "[CV] END bootstrap=False, max_depth=30, max_features=sqrt, min_samples_leaf=2, min_samples_split=5, n_estimators=1000; total time=  25.4s\n",
      "[CV] END bootstrap=True, max_depth=20, max_features=sqrt, min_samples_leaf=1, min_samples_split=2, n_estimators=400; total time=   8.8s\n",
      "[CV] END bootstrap=True, max_depth=20, max_features=sqrt, min_samples_leaf=1, min_samples_split=2, n_estimators=400; total time=   8.9s\n",
      "[CV] END bootstrap=False, max_depth=60, max_features=log2, min_samples_leaf=1, min_samples_split=5, n_estimators=200; total time=   6.3s\n",
      "[CV] END bootstrap=False, max_depth=80, max_features=sqrt, min_samples_leaf=2, min_samples_split=2, n_estimators=600; total time=  15.2s\n",
      "[CV] END bootstrap=True, max_depth=80, max_features=sqrt, min_samples_leaf=2, min_samples_split=5, n_estimators=1200; total time=  21.9s\n",
      "[CV] END bootstrap=True, max_depth=70, max_features=sqrt, min_samples_leaf=2, min_samples_split=5, n_estimators=1000; total time=  17.6s\n",
      "[CV] END bootstrap=False, max_depth=30, max_features=sqrt, min_samples_leaf=1, min_samples_split=2, n_estimators=1200; total time=  38.2s\n",
      "[CV] END bootstrap=False, max_depth=40, max_features=log2, min_samples_leaf=1, min_samples_split=2, n_estimators=400; total time=  13.7s\n",
      "[CV] END bootstrap=False, max_depth=50, max_features=log2, min_samples_leaf=1, min_samples_split=2, n_estimators=200; total time=   6.4s\n",
      "[CV] END bootstrap=False, max_depth=50, max_features=log2, min_samples_leaf=1, min_samples_split=2, n_estimators=200; total time=   6.5s\n",
      "[CV] END bootstrap=True, max_depth=20, max_features=sqrt, min_samples_leaf=1, min_samples_split=5, n_estimators=1000; total time=  19.7s\n",
      "[CV] END bootstrap=False, max_depth=20, max_features=sqrt, min_samples_leaf=2, min_samples_split=5, n_estimators=400; total time=   7.9s\n"
     ]
    },
    {
     "data": {
      "text/html": [
       "<style>#sk-container-id-2 {color: black;background-color: white;}#sk-container-id-2 pre{padding: 0;}#sk-container-id-2 div.sk-toggleable {background-color: white;}#sk-container-id-2 label.sk-toggleable__label {cursor: pointer;display: block;width: 100%;margin-bottom: 0;padding: 0.3em;box-sizing: border-box;text-align: center;}#sk-container-id-2 label.sk-toggleable__label-arrow:before {content: \"▸\";float: left;margin-right: 0.25em;color: #696969;}#sk-container-id-2 label.sk-toggleable__label-arrow:hover:before {color: black;}#sk-container-id-2 div.sk-estimator:hover label.sk-toggleable__label-arrow:before {color: black;}#sk-container-id-2 div.sk-toggleable__content {max-height: 0;max-width: 0;overflow: hidden;text-align: left;background-color: #f0f8ff;}#sk-container-id-2 div.sk-toggleable__content pre {margin: 0.2em;color: black;border-radius: 0.25em;background-color: #f0f8ff;}#sk-container-id-2 input.sk-toggleable__control:checked~div.sk-toggleable__content {max-height: 200px;max-width: 100%;overflow: auto;}#sk-container-id-2 input.sk-toggleable__control:checked~label.sk-toggleable__label-arrow:before {content: \"▾\";}#sk-container-id-2 div.sk-estimator input.sk-toggleable__control:checked~label.sk-toggleable__label {background-color: #d4ebff;}#sk-container-id-2 div.sk-label input.sk-toggleable__control:checked~label.sk-toggleable__label {background-color: #d4ebff;}#sk-container-id-2 input.sk-hidden--visually {border: 0;clip: rect(1px 1px 1px 1px);clip: rect(1px, 1px, 1px, 1px);height: 1px;margin: -1px;overflow: hidden;padding: 0;position: absolute;width: 1px;}#sk-container-id-2 div.sk-estimator {font-family: monospace;background-color: #f0f8ff;border: 1px dotted black;border-radius: 0.25em;box-sizing: border-box;margin-bottom: 0.5em;}#sk-container-id-2 div.sk-estimator:hover {background-color: #d4ebff;}#sk-container-id-2 div.sk-parallel-item::after {content: \"\";width: 100%;border-bottom: 1px solid gray;flex-grow: 1;}#sk-container-id-2 div.sk-label:hover label.sk-toggleable__label {background-color: #d4ebff;}#sk-container-id-2 div.sk-serial::before {content: \"\";position: absolute;border-left: 1px solid gray;box-sizing: border-box;top: 0;bottom: 0;left: 50%;z-index: 0;}#sk-container-id-2 div.sk-serial {display: flex;flex-direction: column;align-items: center;background-color: white;padding-right: 0.2em;padding-left: 0.2em;position: relative;}#sk-container-id-2 div.sk-item {position: relative;z-index: 1;}#sk-container-id-2 div.sk-parallel {display: flex;align-items: stretch;justify-content: center;background-color: white;position: relative;}#sk-container-id-2 div.sk-item::before, #sk-container-id-2 div.sk-parallel-item::before {content: \"\";position: absolute;border-left: 1px solid gray;box-sizing: border-box;top: 0;bottom: 0;left: 50%;z-index: -1;}#sk-container-id-2 div.sk-parallel-item {display: flex;flex-direction: column;z-index: 1;position: relative;background-color: white;}#sk-container-id-2 div.sk-parallel-item:first-child::after {align-self: flex-end;width: 50%;}#sk-container-id-2 div.sk-parallel-item:last-child::after {align-self: flex-start;width: 50%;}#sk-container-id-2 div.sk-parallel-item:only-child::after {width: 0;}#sk-container-id-2 div.sk-dashed-wrapped {border: 1px dashed gray;margin: 0 0.4em 0.5em 0.4em;box-sizing: border-box;padding-bottom: 0.4em;background-color: white;}#sk-container-id-2 div.sk-label label {font-family: monospace;font-weight: bold;display: inline-block;line-height: 1.2em;}#sk-container-id-2 div.sk-label-container {text-align: center;}#sk-container-id-2 div.sk-container {/* jupyter's `normalize.less` sets `[hidden] { display: none; }` but bootstrap.min.css set `[hidden] { display: none !important; }` so we also need the `!important` here to be able to override the default hidden behavior on the sphinx rendered scikit-learn.org. See: https://github.com/scikit-learn/scikit-learn/issues/21755 */display: inline-block !important;position: relative;}#sk-container-id-2 div.sk-text-repr-fallback {display: none;}</style><div id=\"sk-container-id-2\" class=\"sk-top-container\"><div class=\"sk-text-repr-fallback\"><pre>RandomForestRegressor(bootstrap=False, max_depth=30, max_features=&#x27;log2&#x27;,\n",
       "                      n_estimators=1200)</pre><b>In a Jupyter environment, please rerun this cell to show the HTML representation or trust the notebook. <br />On GitHub, the HTML representation is unable to render, please try loading this page with nbviewer.org.</b></div><div class=\"sk-container\" hidden><div class=\"sk-item\"><div class=\"sk-estimator sk-toggleable\"><input class=\"sk-toggleable__control sk-hidden--visually\" id=\"sk-estimator-id-4\" type=\"checkbox\" checked><label for=\"sk-estimator-id-4\" class=\"sk-toggleable__label sk-toggleable__label-arrow\">RandomForestRegressor</label><div class=\"sk-toggleable__content\"><pre>RandomForestRegressor(bootstrap=False, max_depth=30, max_features=&#x27;log2&#x27;,\n",
       "                      n_estimators=1200)</pre></div></div></div></div></div>"
      ],
      "text/plain": [
       "RandomForestRegressor(bootstrap=False, max_depth=30, max_features='log2',\n",
       "                      n_estimators=1200)"
      ]
     },
     "execution_count": 24,
     "metadata": {},
     "output_type": "execute_result"
    }
   ],
   "source": [
    "best_rf.fit(X_train , y_train) # best_rf modelini tüm eğitim verisiyle eğitiyorum."
   ]
  },
  {
   "cell_type": "markdown",
   "id": "62b32974",
   "metadata": {
    "papermill": {
     "duration": 0.018405,
     "end_time": "2024-09-18T17:44:10.534450",
     "exception": false,
     "start_time": "2024-09-18T17:44:10.516045",
     "status": "completed"
    },
    "tags": []
   },
   "source": [
    "best_rf modelini eğittikten sonra tahmin yaptırıyorum. Ardından Modeli değerlendirmek için en başta tanımladığım evaluate fonksiyonunu kullanıyorum."
   ]
  },
  {
   "cell_type": "code",
   "execution_count": 25,
   "id": "7459058f",
   "metadata": {
    "execution": {
     "iopub.execute_input": "2024-09-18T17:44:10.571778Z",
     "iopub.status.busy": "2024-09-18T17:44:10.570949Z",
     "iopub.status.idle": "2024-09-18T17:45:06.911279Z",
     "shell.execute_reply": "2024-09-18T17:45:06.910142Z"
    },
    "papermill": {
     "duration": 56.380256,
     "end_time": "2024-09-18T17:45:06.932370",
     "exception": false,
     "start_time": "2024-09-18T17:44:10.552114",
     "status": "completed"
    },
    "tags": []
   },
   "outputs": [
    {
     "name": "stdout",
     "output_type": "stream",
     "text": [
      "Model Performance\n",
      "Average Error: 18.5220 degrees.\n",
      "Accuracy = 91.00%.\n",
      "Mean Squared Error: 755.4095027366814\n",
      "Mean Absolute Error: 18.522000200718868\n",
      "R² Score: 0.843834237560804\n"
     ]
    }
   ],
   "source": [
    "y_pred = best_rf.predict(X_test)\n",
    "\n",
    "final_accuracy = evaluate(best_rf, X_test, y_test)"
   ]
  },
  {
   "cell_type": "markdown",
   "id": "e4f6b185",
   "metadata": {
    "papermill": {
     "duration": 0.01836,
     "end_time": "2024-09-18T17:45:06.969179",
     "exception": false,
     "start_time": "2024-09-18T17:45:06.950819",
     "status": "completed"
    },
    "tags": []
   },
   "source": [
    "R^2 score increased after hyperparameter optimization, so we didn't wait in vain :)"
   ]
  },
  {
   "cell_type": "code",
   "execution_count": 26,
   "id": "d88a44ee",
   "metadata": {
    "execution": {
     "iopub.execute_input": "2024-09-18T17:45:07.008816Z",
     "iopub.status.busy": "2024-09-18T17:45:07.008158Z",
     "iopub.status.idle": "2024-09-18T17:45:07.071247Z",
     "shell.execute_reply": "2024-09-18T17:45:07.070461Z"
    },
    "papermill": {
     "duration": 0.084594,
     "end_time": "2024-09-18T17:45:07.073162",
     "exception": false,
     "start_time": "2024-09-18T17:45:06.988568",
     "status": "completed"
    },
    "tags": []
   },
   "outputs": [],
   "source": [
    "from sklearn.decomposition import PCA\n",
    "from sklearn.cluster import KMeans\n",
    "from sklearn.metrics import silhouette_score, davies_bouldin_score"
   ]
  },
  {
   "cell_type": "code",
   "execution_count": 27,
   "id": "dafcb88c",
   "metadata": {
    "execution": {
     "iopub.execute_input": "2024-09-18T17:45:07.110936Z",
     "iopub.status.busy": "2024-09-18T17:45:07.110591Z",
     "iopub.status.idle": "2024-09-18T17:45:07.202881Z",
     "shell.execute_reply": "2024-09-18T17:45:07.201900Z"
    },
    "papermill": {
     "duration": 0.113399,
     "end_time": "2024-09-18T17:45:07.205143",
     "exception": false,
     "start_time": "2024-09-18T17:45:07.091744",
     "status": "completed"
    },
    "tags": []
   },
   "outputs": [],
   "source": [
    "X_full = pd.DataFrame(np.concatenate([X_train, X_test], axis=0))\n",
    "X_full.columns = df_1.columns  # df ihtiyacı olursa bunu kullan.\n",
    "\n",
    "# Dikey birleştirme (vstack)\n",
    "X_combined_v = np.vstack((X_train, X_test)) # KMeans array ister imiş. array ihtiyacı olursa bunu kullan."
   ]
  },
  {
   "cell_type": "code",
   "execution_count": 28,
   "id": "546d1ec7",
   "metadata": {
    "execution": {
     "iopub.execute_input": "2024-09-18T17:45:07.280992Z",
     "iopub.status.busy": "2024-09-18T17:45:07.280072Z",
     "iopub.status.idle": "2024-09-18T17:45:07.286960Z",
     "shell.execute_reply": "2024-09-18T17:45:07.286063Z"
    },
    "papermill": {
     "duration": 0.028679,
     "end_time": "2024-09-18T17:45:07.289099",
     "exception": false,
     "start_time": "2024-09-18T17:45:07.260420",
     "status": "completed"
    },
    "tags": []
   },
   "outputs": [],
   "source": [
    "y_full = pd.DataFrame(np.concatenate([y_train, y_test], axis=0))\n",
    "y_full.columns = [\"fare\"]   # df ihtiyacı olursa bunu kullan.\n",
    "\n",
    "# tek boyutlu olduklarından dolayı yatay yığınlandı.\n",
    "y_combined = np.hstack((y_train,y_test))   # array ihtiyacı olursa bunu kullan"
   ]
  },
  {
   "cell_type": "code",
   "execution_count": 29,
   "id": "7eb1b756",
   "metadata": {
    "execution": {
     "iopub.execute_input": "2024-09-18T17:45:07.327169Z",
     "iopub.status.busy": "2024-09-18T17:45:07.326830Z",
     "iopub.status.idle": "2024-09-18T17:45:07.379883Z",
     "shell.execute_reply": "2024-09-18T17:45:07.378965Z"
    },
    "papermill": {
     "duration": 0.074887,
     "end_time": "2024-09-18T17:45:07.382016",
     "exception": false,
     "start_time": "2024-09-18T17:45:07.307129",
     "status": "completed"
    },
    "tags": []
   },
   "outputs": [
    {
     "data": {
      "text/html": [
       "<div>\n",
       "<style scoped>\n",
       "    .dataframe tbody tr th:only-of-type {\n",
       "        vertical-align: middle;\n",
       "    }\n",
       "\n",
       "    .dataframe tbody tr th {\n",
       "        vertical-align: top;\n",
       "    }\n",
       "\n",
       "    .dataframe thead th {\n",
       "        text-align: right;\n",
       "    }\n",
       "</style>\n",
       "<table border=\"1\" class=\"dataframe\">\n",
       "  <thead>\n",
       "    <tr style=\"text-align: right;\">\n",
       "      <th></th>\n",
       "      <th>airport_1</th>\n",
       "      <th>airport_2</th>\n",
       "      <th>carrier_lg</th>\n",
       "      <th>carrier_low</th>\n",
       "      <th>dep_city</th>\n",
       "      <th>dep_state</th>\n",
       "      <th>dest_city</th>\n",
       "      <th>dest_state</th>\n",
       "      <th>quarter_2</th>\n",
       "      <th>quarter_3</th>\n",
       "      <th>quarter_4</th>\n",
       "      <th>Year</th>\n",
       "      <th>nsmiles</th>\n",
       "      <th>passengers</th>\n",
       "      <th>large_ms</th>\n",
       "      <th>lf_ms</th>\n",
       "      <th>fare</th>\n",
       "    </tr>\n",
       "  </thead>\n",
       "  <tbody>\n",
       "    <tr>\n",
       "      <th>0</th>\n",
       "      <td>0.136826</td>\n",
       "      <td>-3.796477</td>\n",
       "      <td>-3.801681</td>\n",
       "      <td>-4.285522</td>\n",
       "      <td>0.156832</td>\n",
       "      <td>-0.129084</td>\n",
       "      <td>-0.433886</td>\n",
       "      <td>-0.321304</td>\n",
       "      <td>-0.570736</td>\n",
       "      <td>1.736038</td>\n",
       "      <td>-0.571103</td>\n",
       "      <td>1.668573</td>\n",
       "      <td>0.039433</td>\n",
       "      <td>-0.178778</td>\n",
       "      <td>1.504223</td>\n",
       "      <td>1.669605</td>\n",
       "      <td>130.43</td>\n",
       "    </tr>\n",
       "  </tbody>\n",
       "</table>\n",
       "</div>"
      ],
      "text/plain": [
       "   airport_1  airport_2  carrier_lg  carrier_low  dep_city  dep_state  \\\n",
       "0   0.136826  -3.796477   -3.801681    -4.285522  0.156832  -0.129084   \n",
       "\n",
       "   dest_city  dest_state  quarter_2  quarter_3  quarter_4      Year   nsmiles  \\\n",
       "0  -0.433886   -0.321304  -0.570736   1.736038  -0.571103  1.668573  0.039433   \n",
       "\n",
       "   passengers  large_ms     lf_ms    fare  \n",
       "0   -0.178778  1.504223  1.669605  130.43  "
      ]
     },
     "execution_count": 29,
     "metadata": {},
     "output_type": "execute_result"
    }
   ],
   "source": [
    "df_full = pd.concat([X_full, y_full], axis=1)\n",
    "\n",
    "df_full.head(1) # column 16 is the target."
   ]
  },
  {
   "cell_type": "markdown",
   "id": "1559a169",
   "metadata": {
    "papermill": {
     "duration": 0.017918,
     "end_time": "2024-09-18T17:45:07.419117",
     "exception": false,
     "start_time": "2024-09-18T17:45:07.401199",
     "status": "completed"
    },
    "tags": []
   },
   "source": [
    "X_train_final, X_test_final, y_train, y_test hala scale edilmemiş halde."
   ]
  },
  {
   "cell_type": "code",
   "execution_count": 30,
   "id": "617fb3e1",
   "metadata": {
    "execution": {
     "iopub.execute_input": "2024-09-18T17:45:07.457268Z",
     "iopub.status.busy": "2024-09-18T17:45:07.456976Z",
     "iopub.status.idle": "2024-09-18T17:45:07.469169Z",
     "shell.execute_reply": "2024-09-18T17:45:07.468279Z"
    },
    "papermill": {
     "duration": 0.033877,
     "end_time": "2024-09-18T17:45:07.471275",
     "exception": false,
     "start_time": "2024-09-18T17:45:07.437398",
     "status": "completed"
    },
    "tags": []
   },
   "outputs": [],
   "source": [
    "X_train_test_full = pd.concat([X_train_final,X_test_final] , ignore_index= True)"
   ]
  },
  {
   "cell_type": "markdown",
   "id": "eb2c314a",
   "metadata": {
    "papermill": {
     "duration": 0.018084,
     "end_time": "2024-09-18T17:45:07.507320",
     "exception": false,
     "start_time": "2024-09-18T17:45:07.489236",
     "status": "completed"
    },
    "tags": []
   },
   "source": [
    "X_train_test_full DataFrame i X_full Df inin scale edilmemiş hali. Küme sayısı belirlemek için kullanılacak. X_full df inin np.array karşılığı da X_combined_v . "
   ]
  },
  {
   "cell_type": "code",
   "execution_count": 31,
   "id": "bcecc26e",
   "metadata": {
    "execution": {
     "iopub.execute_input": "2024-09-18T17:45:07.545091Z",
     "iopub.status.busy": "2024-09-18T17:45:07.544575Z",
     "iopub.status.idle": "2024-09-18T17:45:07.561673Z",
     "shell.execute_reply": "2024-09-18T17:45:07.560625Z"
    },
    "papermill": {
     "duration": 0.038554,
     "end_time": "2024-09-18T17:45:07.564083",
     "exception": false,
     "start_time": "2024-09-18T17:45:07.525529",
     "status": "completed"
    },
    "tags": []
   },
   "outputs": [
    {
     "data": {
      "text/html": [
       "<div>\n",
       "<style scoped>\n",
       "    .dataframe tbody tr th:only-of-type {\n",
       "        vertical-align: middle;\n",
       "    }\n",
       "\n",
       "    .dataframe tbody tr th {\n",
       "        vertical-align: top;\n",
       "    }\n",
       "\n",
       "    .dataframe thead th {\n",
       "        text-align: right;\n",
       "    }\n",
       "</style>\n",
       "<table border=\"1\" class=\"dataframe\">\n",
       "  <thead>\n",
       "    <tr style=\"text-align: right;\">\n",
       "      <th></th>\n",
       "      <th>airport_1</th>\n",
       "      <th>airport_2</th>\n",
       "      <th>carrier_lg</th>\n",
       "      <th>carrier_low</th>\n",
       "      <th>dep_city</th>\n",
       "      <th>dep_state</th>\n",
       "      <th>dest_city</th>\n",
       "      <th>dest_state</th>\n",
       "      <th>quarter_2</th>\n",
       "      <th>quarter_3</th>\n",
       "      <th>quarter_4</th>\n",
       "      <th>Year</th>\n",
       "      <th>nsmiles</th>\n",
       "      <th>passengers</th>\n",
       "      <th>large_ms</th>\n",
       "      <th>lf_ms</th>\n",
       "    </tr>\n",
       "  </thead>\n",
       "  <tbody>\n",
       "    <tr>\n",
       "      <th>0</th>\n",
       "      <td>217.040655</td>\n",
       "      <td>117.834017</td>\n",
       "      <td>115.97258</td>\n",
       "      <td>132.693529</td>\n",
       "      <td>217.040655</td>\n",
       "      <td>211.858268</td>\n",
       "      <td>204.467312</td>\n",
       "      <td>207.715333</td>\n",
       "      <td>0.0</td>\n",
       "      <td>1.0</td>\n",
       "      <td>0.0</td>\n",
       "      <td>2023</td>\n",
       "      <td>1225</td>\n",
       "      <td>189</td>\n",
       "      <td>1.0</td>\n",
       "      <td>1.0</td>\n",
       "    </tr>\n",
       "  </tbody>\n",
       "</table>\n",
       "</div>"
      ],
      "text/plain": [
       "    airport_1   airport_2  carrier_lg  carrier_low    dep_city   dep_state  \\\n",
       "0  217.040655  117.834017   115.97258   132.693529  217.040655  211.858268   \n",
       "\n",
       "    dest_city  dest_state  quarter_2  quarter_3  quarter_4  Year  nsmiles  \\\n",
       "0  204.467312  207.715333        0.0        1.0        0.0  2023     1225   \n",
       "\n",
       "   passengers  large_ms  lf_ms  \n",
       "0         189       1.0    1.0  "
      ]
     },
     "execution_count": 31,
     "metadata": {},
     "output_type": "execute_result"
    }
   ],
   "source": [
    "X_train_test_full.head(1) # hedef değişken bulunmuyor !"
   ]
  },
  {
   "cell_type": "code",
   "execution_count": 32,
   "id": "b2921ef3",
   "metadata": {
    "execution": {
     "iopub.execute_input": "2024-09-18T17:45:07.604276Z",
     "iopub.status.busy": "2024-09-18T17:45:07.603761Z",
     "iopub.status.idle": "2024-09-18T17:45:45.406680Z",
     "shell.execute_reply": "2024-09-18T17:45:45.405714Z"
    },
    "papermill": {
     "duration": 37.844175,
     "end_time": "2024-09-18T17:45:45.428404",
     "exception": false,
     "start_time": "2024-09-18T17:45:07.584229",
     "status": "completed"
    },
    "tags": []
   },
   "outputs": [
    {
     "data": {
      "image/png": "[encoded data removed]",
      "text/plain": [
       "<Figure size 800x600 with 1 Axes>"
      ]
     },
     "metadata": {},
     "output_type": "display_data"
    }
   ],
   "source": [
    "inertias = []\n",
    "for i in range(1,11):\n",
    "    kmeans = KMeans(n_clusters=i,init='k-means++',max_iter=300, n_init=12, random_state=0)\n",
    "    kmeans.fit(X_train_test_full)\n",
    "    inertias.append(kmeans.inertia_)\n",
    "f3, ax = plt.subplots(figsize=(8, 6))\n",
    "plt.plot(range(1,11),inertias)\n",
    "plt.title('The Elbow Method')\n",
    "plt.xlabel('Number of clusters')\n",
    "plt.ylabel('Inertias')\n",
    "plt.show()"
   ]
  },
  {
   "cell_type": "code",
   "execution_count": 33,
   "id": "008bfa54",
   "metadata": {
    "execution": {
     "iopub.execute_input": "2024-09-18T17:45:45.468264Z",
     "iopub.status.busy": "2024-09-18T17:45:45.467959Z",
     "iopub.status.idle": "2024-09-18T17:45:45.480202Z",
     "shell.execute_reply": "2024-09-18T17:45:45.479254Z"
    },
    "papermill": {
     "duration": 0.034382,
     "end_time": "2024-09-18T17:45:45.482080",
     "exception": false,
     "start_time": "2024-09-18T17:45:45.447698",
     "status": "completed"
    },
    "tags": []
   },
   "outputs": [],
   "source": [
    "# 2. Improved PCA with automatic component selection based on explained variance. Manual olarak yapmıştım.\n",
    "def run_pca(X_data, variance_threshold=0.95):\n",
    "#     \"\"\"\n",
    "#     Bu fonksiyon, \n",
    "#     veriden belirli bir açıklanan varyans oranını yakalayacak kadar bileşen seçen geliştirilmiş bir PCA algoritması uygular.\n",
    "#     \"\"\"\n",
    "    \n",
    "    pca = PCA(n_components=None) # PCA nesnesi oluşturuluyor.\n",
    "    X_pca = pca.fit_transform(X_data) # bu satır ile PCA uygulanır ve veriler dönüşür.\n",
    "    \n",
    "    explained_variance_ratio = pca.explained_variance_ratio_ # pca'nın her bileşeni tarafından açıklanan varyans oranını verir.\n",
    "    cumulative_variance = np.cumsum(explained_variance_ratio) # yukarıdaki oranların kümülatif toplamını verir.\n",
    "    \n",
    "\n",
    "    num_components = np.argmax(cumulative_variance >= variance_threshold) + 1\n",
    "# kümülatif varyansın threshold değerini aştığı ilk bileşenin indeksi yakalanır , +1 eklenerek bileşen sayısı belirlenir.\n",
    "    print(f\"Number of components selected: {num_components}\")\n",
    "    print(f\"Explained variance with {num_components} components: {cumulative_variance[num_components - 1]}\")\n",
    "    \n",
    "    # Re-run PCA with the selected number of components\n",
    "    pca_final = PCA(n_components=num_components) # num_components kadar bileşen ile son pca nesnesi oluşturulur. \n",
    "    X_pca_final = pca_final.fit_transform(X_data) # Bu bileşen sayısıyla PCA tekrar uygulanır ve veri dönüşür.\n",
    "    \n",
    "    return X_pca_final, pca_final # dönüştürlmüş veri ve son pca nesnesini döndürüyor.\n",
    "\n",
    "\n",
    "def run_kmeans_with_evaluation(X_data, n_clusters=4):\n",
    "#     \"\"\" \n",
    "#     K-Means modelini belirli bir küme sayısıyla uygular,\n",
    "#     küme etiketlerini tahmin eder ve Silhouette Score ve Davies-Bouldin Index ile performansı değerlendirir.\n",
    "#     \"\"\"\n",
    "\n",
    "    # Step 1: Fit the KMeans model\n",
    "    kmeans = KMeans(n_clusters=n_clusters, random_state=42) # n_clusters kadar küme ile kmeans nesnesi oluşturuluyor.\n",
    "    kmeans.fit(X_data) #  kmeans modeli veriler üzerinde eğitilir.\n",
    "    \n",
    "    #  Predict clusters\n",
    "    cluster_labels = kmeans.labels_ \n",
    "    # bu özellik her bir veri noktasının hangi kümeye ait olduğunu gösteren etiketleri içerir.\n",
    "    # veriler hangi kğmede onu tuttuğu için tahmin diyorum.\n",
    "\n",
    "    \n",
    "    # Step 3: Evaluate using Silhouette Score and Davies-Bouldin Index\n",
    "    silhouette_avg = silhouette_score(X_data, cluster_labels) \n",
    "    # Bu skor, kümeleme kalitesinin bir göstergesidir.0-1 arasındadır.\n",
    "    \n",
    "    db_score = davies_bouldin_score(X_data, cluster_labels)\n",
    "    #  küme içindeki ayrılığı ve kümeler arasındaki ayrımı ölçer. 0-sonsuz araşılığında.\n",
    "    \n",
    "    print(f\"Silhouette Score for {n_clusters} clusters: {silhouette_avg}\")\n",
    "    print(f\"Davies-Bouldin Index for {n_clusters} clusters: {db_score}\")\n",
    "    \n",
    "    return kmeans, cluster_labels # kmeans modelini ve veriler için tahmin edilen küme etiketlerini döndürür.\n",
    "                                        \n",
    "\n",
    "# 3. Visualize clusters in PCA-reduced space\n",
    "def plot_clusters_pca(X_pca_data, labels, n_clusters):\n",
    "#     \"\"\" \n",
    "#     Bu fonksiyon, PCA ile indirgenen veri uzayında kümeleri görselleştirir.\n",
    "#     \"\"\"\n",
    "\n",
    "    plt.figure(figsize=(10, 7))\n",
    "    \n",
    "    # Scatter plot with clusters\n",
    "    for cluster in range(n_clusters):\n",
    "        cluster_points = X_pca_data[labels == cluster]\n",
    "        plt.scatter(cluster_points[:, 0], cluster_points[:, 1], label=f\"Cluster {cluster}\")\n",
    "        \n",
    "#         Her bir küme için bir döngü oluşturulur.\n",
    "#         sırası gelen kümenin tüm veri noktalarını seçer.\n",
    "#         her bir kümenin veri noktaları iki boyutlu scatter plot üzerinde çizilir\n",
    "#         Her küme, label parametresi ile etiketlenir.\n",
    "    \n",
    "# Grafik düzenlemesi.    \n",
    "    plt.title(f\"K-Means Clusters Visualized with PCA (n_clusters={n_clusters})\")\n",
    "    plt.xlabel(\"PCA Component 1\")\n",
    "    plt.ylabel(\"PCA Component 2\")\n",
    "    plt.legend()\n",
    "    plt.show()"
   ]
  },
  {
   "cell_type": "code",
   "execution_count": 34,
   "id": "e4e17966",
   "metadata": {
    "execution": {
     "iopub.execute_input": "2024-09-18T17:45:45.521000Z",
     "iopub.status.busy": "2024-09-18T17:45:45.520332Z",
     "iopub.status.idle": "2024-09-18T17:55:48.166170Z",
     "shell.execute_reply": "2024-09-18T17:55:48.165146Z"
    },
    "papermill": {
     "duration": 602.668912,
     "end_time": "2024-09-18T17:55:48.169752",
     "exception": false,
     "start_time": "2024-09-18T17:45:45.500840",
     "status": "completed"
    },
    "tags": []
   },
   "outputs": [
    {
     "name": "stdout",
     "output_type": "stream",
     "text": [
      "Number of components selected: 2\n",
      "Explained variance with 2 components: 0.9941039718308902\n",
      "Silhouette Score for 4 clusters: 0.46371227067631293\n",
      "Davies-Bouldin Index for 4 clusters: 0.7062882332826151\n"
     ]
    },
    {
     "data": {
      "image/png": "[encoded data removed]",
      "text/plain": [
       "<Figure size 1000x700 with 1 Axes>"
      ]
     },
     "metadata": {},
     "output_type": "display_data"
    }
   ],
   "source": [
    "X_transformed, pca_model = run_pca(X_train_test_full, variance_threshold=0.95)\n",
    "\n",
    "\n",
    "best_kmeans, best_labels = run_kmeans_with_evaluation(X_transformed, n_clusters=4)\n",
    "\n",
    "\n",
    "plot_clusters_pca(X_transformed, best_labels, n_clusters=4)"
   ]
  },
  {
   "cell_type": "code",
   "execution_count": 35,
   "id": "2e128f06",
   "metadata": {
    "execution": {
     "iopub.execute_input": "2024-09-18T17:55:48.214896Z",
     "iopub.status.busy": "2024-09-18T17:55:48.214170Z",
     "iopub.status.idle": "2024-09-18T17:55:48.218290Z",
     "shell.execute_reply": "2024-09-18T17:55:48.217478Z"
    },
    "papermill": {
     "duration": 0.028452,
     "end_time": "2024-09-18T17:55:48.220201",
     "exception": false,
     "start_time": "2024-09-18T17:55:48.191749",
     "status": "completed"
    },
    "tags": []
   },
   "outputs": [],
   "source": [
    "# done"
   ]
  },
  {
   "cell_type": "code",
   "execution_count": null,
   "id": "fe2f59a3",
   "metadata": {
    "papermill": {
     "duration": 0.021116,
     "end_time": "2024-09-18T17:55:48.262428",
     "exception": false,
     "start_time": "2024-09-18T17:55:48.241312",
     "status": "completed"
    },
    "tags": []
   },
   "outputs": [],
   "source": []
  },
  {
   "cell_type": "code",
   "execution_count": null,
   "id": "d999e9cb",
   "metadata": {
    "papermill": {
     "duration": 0.021544,
     "end_time": "2024-09-18T17:55:48.305122",
     "exception": false,
     "start_time": "2024-09-18T17:55:48.283578",
     "status": "completed"
    },
    "tags": []
   },
   "outputs": [],
   "source": []
  }
 ],
 "metadata": {
  "kaggle": {
   "accelerator": "nvidiaTeslaT4",
   "dataSources": [
    {
     "datasetId": 5493341,
     "sourceId": 9102243,
     "sourceType": "datasetVersion"
    },
    {
     "datasetId": 5718419,
     "sourceId": 9415909,
     "sourceType": "datasetVersion"
    }
   ],
   "dockerImageVersionId": 30761,
   "isGpuEnabled": true,
   "isInternetEnabled": true,
   "language": "python",
   "sourceType": "notebook"
  },
  "kernelspec": {
   "display_name": "Python 3",
   "language": "python",
   "name": "python3"
  },
  "language_info": {
   "codemirror_mode": {
    "name": "ipython",
    "version": 3
   },
   "file_extension": ".py",
   "mimetype": "text/x-python",
   "name": "python",
   "nbconvert_exporter": "python",
   "pygments_lexer": "ipython3",
   "version": "3.10.14"
  },
  "papermill": {
   "default_parameters": {},
   "duration": 2063.367077,
   "end_time": "2024-09-18T17:55:52.550817",
   "environment_variables": {},
   "exception": null,
   "input_path": "__notebook__.ipynb",
   "output_path": "__notebook__.ipynb",
   "parameters": {},
   "start_time": "2024-09-18T17:21:29.183740",
   "version": "2.6.0"
  }
 },
 "nbformat": 4,
 "nbformat_minor": 5
}
